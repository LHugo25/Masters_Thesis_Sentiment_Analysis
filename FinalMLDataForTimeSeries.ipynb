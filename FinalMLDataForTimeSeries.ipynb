{
 "cells": [
  {
   "cell_type": "code",
   "execution_count": null,
   "metadata": {},
   "outputs": [],
   "source": [
    "import pandas as pd\n",
    "from datetime import datetime"
   ]
  },
  {
   "cell_type": "code",
   "execution_count": null,
   "metadata": {},
   "outputs": [],
   "source": [
    "RF1 = pd.read_csv(\"C:\\\\Users\\\\NB332021\\\\OneDrive - Nedbank\\\\Desktop\\\\Thesis\\\\Data\\\\ML output\\\\RF1.csv\")\n",
    "RF = RF1\n",
    "RF2 = pd.read_csv(\"C:\\\\Users\\\\NB332021\\\\OneDrive - Nedbank\\\\Desktop\\\\Thesis\\\\Data\\\\ML output\\\\RF2.csv\")\n",
    "RF3 = pd.read_csv(\"C:\\\\Users\\\\NB332021\\\\OneDrive - Nedbank\\\\Desktop\\\\Thesis\\\\Data\\\\ML output\\\\RF3.csv\")\n",
    "RF4 = pd.read_csv(\"C:\\\\Users\\\\NB332021\\\\OneDrive - Nedbank\\\\Desktop\\\\Thesis\\\\Data\\\\ML output\\\\RF4.csv\")\n",
    "RF5 = pd.read_csv(\"C:\\\\Users\\\\NB332021\\\\OneDrive - Nedbank\\\\Desktop\\\\Thesis\\\\Data\\\\ML output\\\\RF5.csv\")\n",
    "RF6 = pd.read_csv(\"C:\\\\Users\\\\NB332021\\\\OneDrive - Nedbank\\\\Desktop\\\\Thesis\\\\Data\\\\ML output\\\\RF6.csv\")\n",
    "RF7 = pd.read_csv(\"C:\\\\Users\\\\NB332021\\\\OneDrive - Nedbank\\\\Desktop\\\\Thesis\\\\Data\\\\ML output\\\\RF7.csv\")\n",
    "RF8 = pd.read_csv(\"C:\\\\Users\\\\NB332021\\\\OneDrive - Nedbank\\\\Desktop\\\\Thesis\\\\Data\\\\ML output\\\\RF8.csv\")\n",
    "RF9 = pd.read_csv(\"C:\\\\Users\\\\NB332021\\\\OneDrive - Nedbank\\\\Desktop\\\\Thesis\\\\Data\\\\ML output\\\\RF9.csv\")\n",
    " "
   ]
  },
  {
   "cell_type": "code",
   "execution_count": null,
   "metadata": {},
   "outputs": [],
   "source": [
    "RF = RF.append(RF2, ignore_index=True)\n",
    "RF = RF.append(RF3, ignore_index=True)\n",
    "RF = RF.append(RF4, ignore_index=True)\n",
    "RF = RF.append(RF5, ignore_index=True)\n",
    "RF = RF.append(RF6, ignore_index=True)\n",
    "RF = RF.append(RF7, ignore_index=True)\n",
    "RF = RF.append(RF8, ignore_index=True)\n",
    "RF = RF.append(RF9, ignore_index=True)"
   ]
  },
  {
   "cell_type": "code",
   "execution_count": null,
   "metadata": {},
   "outputs": [],
   "source": [
    "RF = RF.drop(columns=\"Unnamed: 0\")"
   ]
  },
  {
   "cell_type": "code",
   "execution_count": null,
   "metadata": {},
   "outputs": [],
   "source": [
    "RF[\"created_at\"]"
   ]
  },
  {
   "cell_type": "code",
   "execution_count": null,
   "metadata": {},
   "outputs": [],
   "source": [
    "RF1 = RF.dropna(subset=[\"created_at\"])\n",
    "RF1['created_at']"
   ]
  },
  {
   "cell_type": "code",
   "execution_count": null,
   "metadata": {},
   "outputs": [],
   "source": [
    "date_pattern = r'^\\d{4}-\\d{2}-\\d{2}T\\d{2}:\\d{2}:\\d{2}\\.\\d{3}Z$'\n",
    "RF1 = RF[RF['created_at'].str.match(date_pattern, na=False)]"
   ]
  },
  {
   "cell_type": "code",
   "execution_count": null,
   "metadata": {},
   "outputs": [],
   "source": [
    "# Function to extract the month from a datetime string\n",
    "def extract_month(datetime_str):\n",
    "    datetime_str = str(datetime_str)\n",
    "    datetime_obj = datetime.strptime(datetime_str, \"%Y-%m-%dT%H:%M:%S.%fZ\")\n",
    "    return datetime_obj.strftime(\"%Y-%m\")"
   ]
  },
  {
   "cell_type": "code",
   "execution_count": null,
   "metadata": {},
   "outputs": [],
   "source": [
    "# Apply the function to each row in the 'datetime' column\n",
    "RF1['month'] = RF1['created_at'].apply(extract_month)"
   ]
  },
  {
   "cell_type": "code",
   "execution_count": null,
   "metadata": {},
   "outputs": [],
   "source": [
    "RF1.columns"
   ]
  },
  {
   "cell_type": "code",
   "execution_count": null,
   "metadata": {},
   "outputs": [],
   "source": [
    "noweight = RF1.groupby('month')['y_values'].mean()\n",
    "noweight\n",
    " \n",
    "noweight[100:120]\n"
   ]
  },
  {
   "cell_type": "code",
   "execution_count": null,
   "metadata": {},
   "outputs": [],
   "source": [
    "# weighted average (did not use in analysis)\n",
    "# def assign_weights(column):\n",
    "for ind in RF1.index:\n",
    "    if RF1.loc[ind,\"y_values\"] == 0:\n",
    "        RF1.loc[ind, \"weight(0)\"] = 0\n",
    "        #RF1.loc[ind, \"weight(0.3)\"] = 0.3\n",
    "        #RF1.loc[ind, \"weight(0.15)\"] = 0.15\n",
    "    elif RF1.loc[ind,\"y_values\"] == 1:\n",
    "        RF1.loc[ind, \"weight(0)\"] = 1\n",
    "        #RF1.loc[ind, \"weight(0.3)\"] = 1\n",
    "        #RF1.loc[ind, \"weight(0.15)\"] = 1\n",
    "    elif RF1.loc[ind,\"y_values\"] == -1:\n",
    "        RF1.loc[ind, \"weight(0)\"] = 1\n",
    "        #RF1.loc[ind, \"weight(0.3)\"] = 1\n",
    "        #RF1.loc[ind, \"weight(0.15)\"] = 1"
   ]
  },
  {
   "cell_type": "code",
   "execution_count": null,
   "metadata": {},
   "outputs": [],
   "source": [
    "RF1.to_csv(\"C:\\\\Users\\\\NB332021\\\\OneDrive - Nedbank\\\\Desktop\\\\RF1.csv\")"
   ]
  },
  {
   "cell_type": "code",
   "execution_count": null,
   "metadata": {},
   "outputs": [],
   "source": [
    "# Define a function to calculate weighted average\n",
    "import numpy as np\n",
    "def weighted_avg(group):\n",
    "    return np.average(group['y_values'], weights=group['weight(0)'])"
   ]
  },
  {
   "cell_type": "code",
   "execution_count": null,
   "metadata": {},
   "outputs": [],
   "source": [
    "# Group by 'Category' and apply the weighted average function\n",
    "result = RF1.groupby('month').apply(weighted_avg).reset_index(name='Weighted_Avg')\n",
    " "
   ]
  },
  {
   "cell_type": "code",
   "execution_count": null,
   "metadata": {},
   "outputs": [],
   "source": [
    "result\n",
    " "
   ]
  }
 ],
 "metadata": {
  "language_info": {
   "name": "python"
  },
  "orig_nbformat": 4
 },
 "nbformat": 4,
 "nbformat_minor": 2
}
