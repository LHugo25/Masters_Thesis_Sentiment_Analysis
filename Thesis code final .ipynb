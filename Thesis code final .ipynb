{
 "cells": [
  {
   "cell_type": "code",
   "execution_count": 1,
   "metadata": {},
   "outputs": [
    {
     "name": "stderr",
     "output_type": "stream",
     "text": [
      "[nltk_data] Downloading package punkt to /Users/lise-\n",
      "[nltk_data]     mariehugo/nltk_data...\n",
      "[nltk_data]   Package punkt is already up-to-date!\n",
      "[nltk_data] Downloading package wordnet to /Users/lise-\n",
      "[nltk_data]     mariehugo/nltk_data...\n",
      "[nltk_data]   Package wordnet is already up-to-date!\n"
     ]
    },
    {
     "data": {
      "text/plain": [
       "True"
      ]
     },
     "execution_count": 1,
     "metadata": {},
     "output_type": "execute_result"
    }
   ],
   "source": [
    "#perform imports and load dataset\n",
    "import numpy as np\n",
    "import pandas as pd\n",
    "import spacy\n",
    "import re # For regular expressions\n",
    "import string # For handling string\n",
    "import nltk\n",
    "import pickle\n",
    "import sklearn\n",
    "import matplotlib.pyplot as plt\n",
    "from nltk.util import ngrams\n",
    "import seaborn as sns\n",
    "from nltk.corpus import stopwords\n",
    "from collections import  Counter\n",
    "import gensim\n",
    "nltk.download('punkt')\n",
    "nltk.download('wordnet')"
   ]
  },
  {
   "cell_type": "code",
   "execution_count": 2,
   "metadata": {},
   "outputs": [],
   "source": [
    "#pip install \\\n",
    "   #pandas matplotlib numpy \\\n",
    "   #nltk seaborn sklearn gensim pyldavis \\\n",
    "   #wordcloud textblob spacy textstat\n",
    "\n",
    "#TERMINAL "
   ]
  },
  {
   "cell_type": "code",
   "execution_count": 5,
   "metadata": {},
   "outputs": [],
   "source": [
    "df = pd.read_excel(r'/Users/lise-mariehugo/Desktop/Thesisdata/FinDataLabelled/2012/X2012_1.xlsx')\n"
   ]
  },
  {
   "cell_type": "code",
   "execution_count": 6,
   "metadata": {},
   "outputs": [
    {
     "data": {
      "text/html": [
       "<div>\n",
       "<style scoped>\n",
       "    .dataframe tbody tr th:only-of-type {\n",
       "        vertical-align: middle;\n",
       "    }\n",
       "\n",
       "    .dataframe tbody tr th {\n",
       "        vertical-align: top;\n",
       "    }\n",
       "\n",
       "    .dataframe thead th {\n",
       "        text-align: right;\n",
       "    }\n",
       "</style>\n",
       "<table border=\"1\" class=\"dataframe\">\n",
       "  <thead>\n",
       "    <tr style=\"text-align: right;\">\n",
       "      <th></th>\n",
       "      <th>id</th>\n",
       "      <th>source</th>\n",
       "      <th>created_at</th>\n",
       "      <th>lang</th>\n",
       "      <th>text</th>\n",
       "      <th>label</th>\n",
       "      <th>possibly_sensitive</th>\n",
       "      <th>edit_history_tweet_ids</th>\n",
       "      <th>author_id</th>\n",
       "      <th>conversation_id</th>\n",
       "      <th>...</th>\n",
       "      <th>urls</th>\n",
       "      <th>annotations</th>\n",
       "      <th>mentions</th>\n",
       "      <th>retweet_count</th>\n",
       "      <th>reply_count</th>\n",
       "      <th>like_count</th>\n",
       "      <th>quote_count</th>\n",
       "      <th>place_id</th>\n",
       "      <th>coordinates.type</th>\n",
       "      <th>coordinates.coordinates</th>\n",
       "    </tr>\n",
       "  </thead>\n",
       "  <tbody>\n",
       "    <tr>\n",
       "      <th>0</th>\n",
       "      <td>1.532864e+17</td>\n",
       "      <td>Twitter for BlackBerry¬Æ</td>\n",
       "      <td>2012-01-01T01:28:19.000Z</td>\n",
       "      <td>en</td>\n",
       "      <td>@dorothyblack eish... And since then it got a ...</td>\n",
       "      <td>NaN</td>\n",
       "      <td>False</td>\n",
       "      <td>1.532864e+17</td>\n",
       "      <td>83786624.0</td>\n",
       "      <td>1.532850e+17</td>\n",
       "      <td>...</td>\n",
       "      <td>NaN</td>\n",
       "      <td>NaN</td>\n",
       "      <td>list(start = 0, end = 13, username = \"DorothyB...</td>\n",
       "      <td>0</td>\n",
       "      <td>0.0</td>\n",
       "      <td>0.0</td>\n",
       "      <td>0.0</td>\n",
       "      <td>NaN</td>\n",
       "      <td>NaN</td>\n",
       "      <td>NaN</td>\n",
       "    </tr>\n",
       "    <tr>\n",
       "      <th>1</th>\n",
       "      <td>1.532881e+17</td>\n",
       "      <td>Twitter for BlackBerry¬Æ</td>\n",
       "      <td>2012-01-01T01:35:15.000Z</td>\n",
       "      <td>tl</td>\n",
       "      <td>@ZlatanDzinic dude long street looks like fuck...</td>\n",
       "      <td>-1.0</td>\n",
       "      <td>False</td>\n",
       "      <td>1.532881e+17</td>\n",
       "      <td>83786624.0</td>\n",
       "      <td>1.532872e+17</td>\n",
       "      <td>...</td>\n",
       "      <td>NaN</td>\n",
       "      <td>NaN</td>\n",
       "      <td>list(start = 0, end = 13, username = \"ZlatanDz...</td>\n",
       "      <td>0</td>\n",
       "      <td>0.0</td>\n",
       "      <td>0.0</td>\n",
       "      <td>0.0</td>\n",
       "      <td>NaN</td>\n",
       "      <td>NaN</td>\n",
       "      <td>NaN</td>\n",
       "    </tr>\n",
       "    <tr>\n",
       "      <th>2</th>\n",
       "      <td>1.533571e+17</td>\n",
       "      <td>TweetCaster for Android</td>\n",
       "      <td>2012-01-01T06:09:24.000Z</td>\n",
       "      <td>en</td>\n",
       "      <td>Touch down baby #jozi  thanks kulula</td>\n",
       "      <td>NaN</td>\n",
       "      <td>False</td>\n",
       "      <td>1.533571e+17</td>\n",
       "      <td>6225362.0</td>\n",
       "      <td>1.533571e+17</td>\n",
       "      <td>...</td>\n",
       "      <td>NaN</td>\n",
       "      <td>NaN</td>\n",
       "      <td>NaN</td>\n",
       "      <td>0</td>\n",
       "      <td>0.0</td>\n",
       "      <td>0.0</td>\n",
       "      <td>0.0</td>\n",
       "      <td>d98aef293ae7311d</td>\n",
       "      <td>Point</td>\n",
       "      <td>c(28.2355678, -26.1234539)</td>\n",
       "    </tr>\n",
       "    <tr>\n",
       "      <th>3</th>\n",
       "      <td>1.533609e+17</td>\n",
       "      <td>Twitter for iPhone</td>\n",
       "      <td>2012-01-01T06:24:22.000Z</td>\n",
       "      <td>en</td>\n",
       "      <td>Waiting at the airport, off to #Johannesburg s...</td>\n",
       "      <td>NaN</td>\n",
       "      <td>False</td>\n",
       "      <td>1.533609e+17</td>\n",
       "      <td>170696303.0</td>\n",
       "      <td>1.533609e+17</td>\n",
       "      <td>...</td>\n",
       "      <td>NaN</td>\n",
       "      <td>NaN</td>\n",
       "      <td>NaN</td>\n",
       "      <td>0</td>\n",
       "      <td>1.0</td>\n",
       "      <td>0.0</td>\n",
       "      <td>0.0</td>\n",
       "      <td>8b9ec16fdc0d7e55</td>\n",
       "      <td>Point</td>\n",
       "      <td>c(18.59716255, -33.96924694)</td>\n",
       "    </tr>\n",
       "    <tr>\n",
       "      <th>4</th>\n",
       "      <td>1.533788e+17</td>\n",
       "      <td>Twitter for iPhone</td>\n",
       "      <td>2012-01-01T07:35:34.000Z</td>\n",
       "      <td>en</td>\n",
       "      <td>Time to fly!! #Johannesburg here I come! Going...</td>\n",
       "      <td>NaN</td>\n",
       "      <td>False</td>\n",
       "      <td>1.533788e+17</td>\n",
       "      <td>170696303.0</td>\n",
       "      <td>1.533788e+17</td>\n",
       "      <td>...</td>\n",
       "      <td>NaN</td>\n",
       "      <td>NaN</td>\n",
       "      <td>NaN</td>\n",
       "      <td>0</td>\n",
       "      <td>0.0</td>\n",
       "      <td>0.0</td>\n",
       "      <td>0.0</td>\n",
       "      <td>8b9ec16fdc0d7e55</td>\n",
       "      <td>Point</td>\n",
       "      <td>c(18.59945206, -33.97402462)</td>\n",
       "    </tr>\n",
       "  </tbody>\n",
       "</table>\n",
       "<p>5 rows × 23 columns</p>\n",
       "</div>"
      ],
      "text/plain": [
       "             id                    source                created_at lang  \\\n",
       "0  1.532864e+17  Twitter for BlackBerry¬Æ  2012-01-01T01:28:19.000Z   en   \n",
       "1  1.532881e+17  Twitter for BlackBerry¬Æ  2012-01-01T01:35:15.000Z   tl   \n",
       "2  1.533571e+17   TweetCaster for Android  2012-01-01T06:09:24.000Z   en   \n",
       "3  1.533609e+17        Twitter for iPhone  2012-01-01T06:24:22.000Z   en   \n",
       "4  1.533788e+17        Twitter for iPhone  2012-01-01T07:35:34.000Z   en   \n",
       "\n",
       "                                                text  label  \\\n",
       "0  @dorothyblack eish... And since then it got a ...    NaN   \n",
       "1  @ZlatanDzinic dude long street looks like fuck...   -1.0   \n",
       "2               Touch down baby #jozi  thanks kulula    NaN   \n",
       "3  Waiting at the airport, off to #Johannesburg s...    NaN   \n",
       "4  Time to fly!! #Johannesburg here I come! Going...    NaN   \n",
       "\n",
       "   possibly_sensitive  edit_history_tweet_ids    author_id  conversation_id  \\\n",
       "0               False            1.532864e+17   83786624.0     1.532850e+17   \n",
       "1               False            1.532881e+17   83786624.0     1.532872e+17   \n",
       "2               False            1.533571e+17    6225362.0     1.533571e+17   \n",
       "3               False            1.533609e+17  170696303.0     1.533609e+17   \n",
       "4               False            1.533788e+17  170696303.0     1.533788e+17   \n",
       "\n",
       "   ... urls annotations                                           mentions  \\\n",
       "0  ...  NaN         NaN  list(start = 0, end = 13, username = \"DorothyB...   \n",
       "1  ...  NaN         NaN  list(start = 0, end = 13, username = \"ZlatanDz...   \n",
       "2  ...  NaN         NaN                                                NaN   \n",
       "3  ...  NaN         NaN                                                NaN   \n",
       "4  ...  NaN         NaN                                                NaN   \n",
       "\n",
       "  retweet_count reply_count like_count  quote_count          place_id  \\\n",
       "0             0         0.0        0.0          0.0               NaN   \n",
       "1             0         0.0        0.0          0.0               NaN   \n",
       "2             0         0.0        0.0          0.0  d98aef293ae7311d   \n",
       "3             0         1.0        0.0          0.0  8b9ec16fdc0d7e55   \n",
       "4             0         0.0        0.0          0.0  8b9ec16fdc0d7e55   \n",
       "\n",
       "   coordinates.type       coordinates.coordinates  \n",
       "0               NaN                           NaN  \n",
       "1               NaN                           NaN  \n",
       "2             Point    c(28.2355678, -26.1234539)  \n",
       "3             Point  c(18.59716255, -33.96924694)  \n",
       "4             Point  c(18.59945206, -33.97402462)  \n",
       "\n",
       "[5 rows x 23 columns]"
      ]
     },
     "execution_count": 6,
     "metadata": {},
     "output_type": "execute_result"
    }
   ],
   "source": [
    "df.head()"
   ]
  },
  {
   "cell_type": "code",
   "execution_count": 7,
   "metadata": {},
   "outputs": [
    {
     "data": {
      "text/plain": [
       "pandas.core.frame.DataFrame"
      ]
     },
     "execution_count": 7,
     "metadata": {},
     "output_type": "execute_result"
    }
   ],
   "source": [
    "#insert a indices column\n",
    "lists = list(range(len(df)))\n",
    "\n",
    "#create new column \n",
    "df[\"index\"] = lists\n",
    "type(df)"
   ]
  },
  {
   "cell_type": "code",
   "execution_count": 8,
   "metadata": {},
   "outputs": [
    {
     "data": {
      "text/plain": [
       "(1740, 24)"
      ]
     },
     "execution_count": 8,
     "metadata": {},
     "output_type": "execute_result"
    }
   ],
   "source": [
    "df.isnull().sum() #also look for empty strings\n",
    "df.shape"
   ]
  },
  {
   "cell_type": "code",
   "execution_count": 9,
   "metadata": {},
   "outputs": [],
   "source": [
    "#df[\"hashtag\"].head()"
   ]
  },
  {
   "cell_type": "code",
   "execution_count": 12,
   "metadata": {},
   "outputs": [
    {
     "data": {
      "text/html": [
       "<div>\n",
       "<style scoped>\n",
       "    .dataframe tbody tr th:only-of-type {\n",
       "        vertical-align: middle;\n",
       "    }\n",
       "\n",
       "    .dataframe tbody tr th {\n",
       "        vertical-align: top;\n",
       "    }\n",
       "\n",
       "    .dataframe thead th {\n",
       "        text-align: right;\n",
       "    }\n",
       "</style>\n",
       "<table border=\"1\" class=\"dataframe\">\n",
       "  <thead>\n",
       "    <tr style=\"text-align: right;\">\n",
       "      <th></th>\n",
       "      <th>id</th>\n",
       "      <th>source</th>\n",
       "      <th>created_at</th>\n",
       "      <th>lang</th>\n",
       "      <th>text</th>\n",
       "      <th>label</th>\n",
       "      <th>possibly_sensitive</th>\n",
       "      <th>edit_history_tweet_ids</th>\n",
       "      <th>author_id</th>\n",
       "      <th>conversation_id</th>\n",
       "      <th>...</th>\n",
       "      <th>annotations</th>\n",
       "      <th>mentions</th>\n",
       "      <th>retweet_count</th>\n",
       "      <th>reply_count</th>\n",
       "      <th>like_count</th>\n",
       "      <th>quote_count</th>\n",
       "      <th>place_id</th>\n",
       "      <th>coordinates.type</th>\n",
       "      <th>coordinates.coordinates</th>\n",
       "      <th>index</th>\n",
       "    </tr>\n",
       "  </thead>\n",
       "  <tbody>\n",
       "    <tr>\n",
       "      <th>1</th>\n",
       "      <td>1.532881e+17</td>\n",
       "      <td>Twitter for BlackBerry¬Æ</td>\n",
       "      <td>2012-01-01T01:35:15.000Z</td>\n",
       "      <td>tl</td>\n",
       "      <td>@ZlatanDzinic dude long street looks like fuck...</td>\n",
       "      <td>-1.0</td>\n",
       "      <td>False</td>\n",
       "      <td>1.532881e+17</td>\n",
       "      <td>83786624.0</td>\n",
       "      <td>1.532872e+17</td>\n",
       "      <td>...</td>\n",
       "      <td>NaN</td>\n",
       "      <td>list(start = 0, end = 13, username = \"ZlatanDz...</td>\n",
       "      <td>0</td>\n",
       "      <td>0.0</td>\n",
       "      <td>0.0</td>\n",
       "      <td>0.0</td>\n",
       "      <td>NaN</td>\n",
       "      <td>NaN</td>\n",
       "      <td>NaN</td>\n",
       "      <td>1</td>\n",
       "    </tr>\n",
       "    <tr>\n",
       "      <th>5</th>\n",
       "      <td>1.534078e+17</td>\n",
       "      <td>Trendsmap Alerting</td>\n",
       "      <td>2012-01-01T09:30:50.000Z</td>\n",
       "      <td>en</td>\n",
       "      <td>Arthur Goldstuck, @art2gee is now trending in ...</td>\n",
       "      <td>0.0</td>\n",
       "      <td>False</td>\n",
       "      <td>1.534078e+17</td>\n",
       "      <td>172650029.0</td>\n",
       "      <td>1.534078e+17</td>\n",
       "      <td>...</td>\n",
       "      <td>list(start = 0, end = 15, probability = 0.9932...</td>\n",
       "      <td>list(start = 18, end = 26, username = \"art2gee...</td>\n",
       "      <td>0</td>\n",
       "      <td>0.0</td>\n",
       "      <td>0.0</td>\n",
       "      <td>0.0</td>\n",
       "      <td>e564d30dc173d2a8</td>\n",
       "      <td>NaN</td>\n",
       "      <td>NaN</td>\n",
       "      <td>5</td>\n",
       "    </tr>\n",
       "    <tr>\n",
       "      <th>6</th>\n",
       "      <td>1.534104e+17</td>\n",
       "      <td>Trendsmap Alerting</td>\n",
       "      <td>2012-01-01T09:40:59.000Z</td>\n",
       "      <td>en</td>\n",
       "      <td>Arthur Goldstuck, @art2gee is now trending in ...</td>\n",
       "      <td>0.0</td>\n",
       "      <td>False</td>\n",
       "      <td>1.534104e+17</td>\n",
       "      <td>132338160.0</td>\n",
       "      <td>1.534104e+17</td>\n",
       "      <td>...</td>\n",
       "      <td>list(start = 0, end = 15, probability = 0.9932...</td>\n",
       "      <td>list(start = 18, end = 26, username = \"art2gee...</td>\n",
       "      <td>0</td>\n",
       "      <td>0.0</td>\n",
       "      <td>0.0</td>\n",
       "      <td>0.0</td>\n",
       "      <td>8b9ec16fdc0d7e55</td>\n",
       "      <td>NaN</td>\n",
       "      <td>NaN</td>\n",
       "      <td>6</td>\n",
       "    </tr>\n",
       "    <tr>\n",
       "      <th>7</th>\n",
       "      <td>1.534179e+17</td>\n",
       "      <td>Trendsmap Alerting</td>\n",
       "      <td>2012-01-01T10:10:44.000Z</td>\n",
       "      <td>en</td>\n",
       "      <td>'knowles' is now trending in #Johannesburg htt...</td>\n",
       "      <td>0.0</td>\n",
       "      <td>False</td>\n",
       "      <td>1.534179e+17</td>\n",
       "      <td>172650029.0</td>\n",
       "      <td>1.534179e+17</td>\n",
       "      <td>...</td>\n",
       "      <td>NaN</td>\n",
       "      <td>NaN</td>\n",
       "      <td>1</td>\n",
       "      <td>0.0</td>\n",
       "      <td>0.0</td>\n",
       "      <td>0.0</td>\n",
       "      <td>e564d30dc173d2a8</td>\n",
       "      <td>NaN</td>\n",
       "      <td>NaN</td>\n",
       "      <td>7</td>\n",
       "    </tr>\n",
       "    <tr>\n",
       "      <th>11</th>\n",
       "      <td>1.534554e+17</td>\n",
       "      <td>Trendsmap Alerting</td>\n",
       "      <td>2012-01-01T12:40:00.000Z</td>\n",
       "      <td>en</td>\n",
       "      <td>#hillbrow is now trending in #Johannesburg htt...</td>\n",
       "      <td>0.0</td>\n",
       "      <td>False</td>\n",
       "      <td>1.534554e+17</td>\n",
       "      <td>172650029.0</td>\n",
       "      <td>1.534554e+17</td>\n",
       "      <td>...</td>\n",
       "      <td>NaN</td>\n",
       "      <td>NaN</td>\n",
       "      <td>0</td>\n",
       "      <td>0.0</td>\n",
       "      <td>0.0</td>\n",
       "      <td>0.0</td>\n",
       "      <td>e564d30dc173d2a8</td>\n",
       "      <td>NaN</td>\n",
       "      <td>NaN</td>\n",
       "      <td>11</td>\n",
       "    </tr>\n",
       "    <tr>\n",
       "      <th>...</th>\n",
       "      <td>...</td>\n",
       "      <td>...</td>\n",
       "      <td>...</td>\n",
       "      <td>...</td>\n",
       "      <td>...</td>\n",
       "      <td>...</td>\n",
       "      <td>...</td>\n",
       "      <td>...</td>\n",
       "      <td>...</td>\n",
       "      <td>...</td>\n",
       "      <td>...</td>\n",
       "      <td>...</td>\n",
       "      <td>...</td>\n",
       "      <td>...</td>\n",
       "      <td>...</td>\n",
       "      <td>...</td>\n",
       "      <td>...</td>\n",
       "      <td>...</td>\n",
       "      <td>...</td>\n",
       "      <td>...</td>\n",
       "      <td>...</td>\n",
       "    </tr>\n",
       "    <tr>\n",
       "      <th>1617</th>\n",
       "      <td>1.636668e+17</td>\n",
       "      <td>Twitter for BlackBerry¬Æ</td>\n",
       "      <td>2012-01-29T16:56:31.000Z</td>\n",
       "      <td>en</td>\n",
       "      <td>#capetown #southafrica Perfect day exploring t...</td>\n",
       "      <td>0.5</td>\n",
       "      <td>False</td>\n",
       "      <td>1.636668e+17</td>\n",
       "      <td>110505138.0</td>\n",
       "      <td>1.636668e+17</td>\n",
       "      <td>...</td>\n",
       "      <td>NaN</td>\n",
       "      <td>NaN</td>\n",
       "      <td>0</td>\n",
       "      <td>1.0</td>\n",
       "      <td>0.0</td>\n",
       "      <td>0.0</td>\n",
       "      <td>ab42d0293a346841</td>\n",
       "      <td>Point</td>\n",
       "      <td>c(18.39182, -34.12131)</td>\n",
       "      <td>1617</td>\n",
       "    </tr>\n",
       "    <tr>\n",
       "      <th>1638</th>\n",
       "      <td>1.638666e+17</td>\n",
       "      <td>Twitter Web Client</td>\n",
       "      <td>2012-01-30T06:10:28.000Z</td>\n",
       "      <td>en</td>\n",
       "      <td>At Durban City Hall for a meeting of the full ...</td>\n",
       "      <td>1.0</td>\n",
       "      <td>False</td>\n",
       "      <td>1.638666e+17</td>\n",
       "      <td>114995071.0</td>\n",
       "      <td>1.638666e+17</td>\n",
       "      <td>...</td>\n",
       "      <td>list(start = 3, end = 18, probability = 0.9144...</td>\n",
       "      <td>NaN</td>\n",
       "      <td>0</td>\n",
       "      <td>0.0</td>\n",
       "      <td>0.0</td>\n",
       "      <td>0.0</td>\n",
       "      <td>9d7cae88ff6a29f5</td>\n",
       "      <td>NaN</td>\n",
       "      <td>NaN</td>\n",
       "      <td>1638</td>\n",
       "    </tr>\n",
       "    <tr>\n",
       "      <th>1680</th>\n",
       "      <td>1.640454e+17</td>\n",
       "      <td>Twitter for BlackBerry¬Æ</td>\n",
       "      <td>2012-01-30T18:00:39.000Z</td>\n",
       "      <td>en</td>\n",
       "      <td>Impressive sunset \\Table Cloth\\\" over the Hott...</td>\n",
       "      <td>1.0</td>\n",
       "      <td>False</td>\n",
       "      <td>1.640454e+17</td>\n",
       "      <td>110505138.0</td>\n",
       "      <td>1.640454e+17</td>\n",
       "      <td>...</td>\n",
       "      <td>NaN</td>\n",
       "      <td>NaN</td>\n",
       "      <td>0</td>\n",
       "      <td>0.0</td>\n",
       "      <td>0.0</td>\n",
       "      <td>0.0</td>\n",
       "      <td>00d8d13a6f5fcedf</td>\n",
       "      <td>Point</td>\n",
       "      <td>c(18.83744, -34.10812)</td>\n",
       "      <td>1680</td>\n",
       "    </tr>\n",
       "    <tr>\n",
       "      <th>1699</th>\n",
       "      <td>1.642226e+17</td>\n",
       "      <td>Twitter Web Client</td>\n",
       "      <td>2012-01-31T05:45:01.000Z</td>\n",
       "      <td>en</td>\n",
       "      <td>If the government still owes us R599 Million m...</td>\n",
       "      <td>-0.5</td>\n",
       "      <td>False</td>\n",
       "      <td>1.642226e+17</td>\n",
       "      <td>114995071.0</td>\n",
       "      <td>1.642226e+17</td>\n",
       "      <td>...</td>\n",
       "      <td>NaN</td>\n",
       "      <td>NaN</td>\n",
       "      <td>0</td>\n",
       "      <td>0.0</td>\n",
       "      <td>0.0</td>\n",
       "      <td>0.0</td>\n",
       "      <td>08cf288c7b54f834</td>\n",
       "      <td>NaN</td>\n",
       "      <td>NaN</td>\n",
       "      <td>1699</td>\n",
       "    </tr>\n",
       "    <tr>\n",
       "      <th>1716</th>\n",
       "      <td>1.643161e+17</td>\n",
       "      <td>Twitter for BlackBerry¬Æ</td>\n",
       "      <td>2012-01-31T11:56:35.000Z</td>\n",
       "      <td>en</td>\n",
       "      <td>@VelBotha in my opinion #CapeTown's raising th...</td>\n",
       "      <td>1.0</td>\n",
       "      <td>False</td>\n",
       "      <td>1.643161e+17</td>\n",
       "      <td>110505138.0</td>\n",
       "      <td>1.643155e+17</td>\n",
       "      <td>...</td>\n",
       "      <td>NaN</td>\n",
       "      <td>NaN</td>\n",
       "      <td>0</td>\n",
       "      <td>1.0</td>\n",
       "      <td>0.0</td>\n",
       "      <td>0.0</td>\n",
       "      <td>b743bd4031dd59a1</td>\n",
       "      <td>Point</td>\n",
       "      <td>c(18.84318, -34.08697)</td>\n",
       "      <td>1716</td>\n",
       "    </tr>\n",
       "  </tbody>\n",
       "</table>\n",
       "<p>285 rows × 24 columns</p>\n",
       "</div>"
      ],
      "text/plain": [
       "                id                    source                created_at lang  \\\n",
       "1     1.532881e+17  Twitter for BlackBerry¬Æ  2012-01-01T01:35:15.000Z   tl   \n",
       "5     1.534078e+17        Trendsmap Alerting  2012-01-01T09:30:50.000Z   en   \n",
       "6     1.534104e+17        Trendsmap Alerting  2012-01-01T09:40:59.000Z   en   \n",
       "7     1.534179e+17        Trendsmap Alerting  2012-01-01T10:10:44.000Z   en   \n",
       "11    1.534554e+17        Trendsmap Alerting  2012-01-01T12:40:00.000Z   en   \n",
       "...            ...                       ...                       ...  ...   \n",
       "1617  1.636668e+17  Twitter for BlackBerry¬Æ  2012-01-29T16:56:31.000Z   en   \n",
       "1638  1.638666e+17        Twitter Web Client  2012-01-30T06:10:28.000Z   en   \n",
       "1680  1.640454e+17  Twitter for BlackBerry¬Æ  2012-01-30T18:00:39.000Z   en   \n",
       "1699  1.642226e+17        Twitter Web Client  2012-01-31T05:45:01.000Z   en   \n",
       "1716  1.643161e+17  Twitter for BlackBerry¬Æ  2012-01-31T11:56:35.000Z   en   \n",
       "\n",
       "                                                   text  label  \\\n",
       "1     @ZlatanDzinic dude long street looks like fuck...   -1.0   \n",
       "5     Arthur Goldstuck, @art2gee is now trending in ...    0.0   \n",
       "6     Arthur Goldstuck, @art2gee is now trending in ...    0.0   \n",
       "7     'knowles' is now trending in #Johannesburg htt...    0.0   \n",
       "11    #hillbrow is now trending in #Johannesburg htt...    0.0   \n",
       "...                                                 ...    ...   \n",
       "1617  #capetown #southafrica Perfect day exploring t...    0.5   \n",
       "1638  At Durban City Hall for a meeting of the full ...    1.0   \n",
       "1680  Impressive sunset \\Table Cloth\\\" over the Hott...    1.0   \n",
       "1699  If the government still owes us R599 Million m...   -0.5   \n",
       "1716  @VelBotha in my opinion #CapeTown's raising th...    1.0   \n",
       "\n",
       "      possibly_sensitive  edit_history_tweet_ids    author_id  \\\n",
       "1                  False            1.532881e+17   83786624.0   \n",
       "5                  False            1.534078e+17  172650029.0   \n",
       "6                  False            1.534104e+17  132338160.0   \n",
       "7                  False            1.534179e+17  172650029.0   \n",
       "11                 False            1.534554e+17  172650029.0   \n",
       "...                  ...                     ...          ...   \n",
       "1617               False            1.636668e+17  110505138.0   \n",
       "1638               False            1.638666e+17  114995071.0   \n",
       "1680               False            1.640454e+17  110505138.0   \n",
       "1699               False            1.642226e+17  114995071.0   \n",
       "1716               False            1.643161e+17  110505138.0   \n",
       "\n",
       "      conversation_id  ...                                        annotations  \\\n",
       "1        1.532872e+17  ...                                                NaN   \n",
       "5        1.534078e+17  ...  list(start = 0, end = 15, probability = 0.9932...   \n",
       "6        1.534104e+17  ...  list(start = 0, end = 15, probability = 0.9932...   \n",
       "7        1.534179e+17  ...                                                NaN   \n",
       "11       1.534554e+17  ...                                                NaN   \n",
       "...               ...  ...                                                ...   \n",
       "1617     1.636668e+17  ...                                                NaN   \n",
       "1638     1.638666e+17  ...  list(start = 3, end = 18, probability = 0.9144...   \n",
       "1680     1.640454e+17  ...                                                NaN   \n",
       "1699     1.642226e+17  ...                                                NaN   \n",
       "1716     1.643155e+17  ...                                                NaN   \n",
       "\n",
       "                                               mentions  retweet_count  \\\n",
       "1     list(start = 0, end = 13, username = \"ZlatanDz...              0   \n",
       "5     list(start = 18, end = 26, username = \"art2gee...              0   \n",
       "6     list(start = 18, end = 26, username = \"art2gee...              0   \n",
       "7                                                   NaN              1   \n",
       "11                                                  NaN              0   \n",
       "...                                                 ...            ...   \n",
       "1617                                                NaN              0   \n",
       "1638                                                NaN              0   \n",
       "1680                                                NaN              0   \n",
       "1699                                                NaN              0   \n",
       "1716                                                NaN              0   \n",
       "\n",
       "     reply_count like_count quote_count          place_id  coordinates.type  \\\n",
       "1            0.0        0.0         0.0               NaN               NaN   \n",
       "5            0.0        0.0         0.0  e564d30dc173d2a8               NaN   \n",
       "6            0.0        0.0         0.0  8b9ec16fdc0d7e55               NaN   \n",
       "7            0.0        0.0         0.0  e564d30dc173d2a8               NaN   \n",
       "11           0.0        0.0         0.0  e564d30dc173d2a8               NaN   \n",
       "...          ...        ...         ...               ...               ...   \n",
       "1617         1.0        0.0         0.0  ab42d0293a346841             Point   \n",
       "1638         0.0        0.0         0.0  9d7cae88ff6a29f5               NaN   \n",
       "1680         0.0        0.0         0.0  00d8d13a6f5fcedf             Point   \n",
       "1699         0.0        0.0         0.0  08cf288c7b54f834               NaN   \n",
       "1716         1.0        0.0         0.0  b743bd4031dd59a1             Point   \n",
       "\n",
       "      coordinates.coordinates  index  \n",
       "1                         NaN      1  \n",
       "5                         NaN      5  \n",
       "6                         NaN      6  \n",
       "7                         NaN      7  \n",
       "11                        NaN     11  \n",
       "...                       ...    ...  \n",
       "1617   c(18.39182, -34.12131)   1617  \n",
       "1638                      NaN   1638  \n",
       "1680   c(18.83744, -34.10812)   1680  \n",
       "1699                      NaN   1699  \n",
       "1716   c(18.84318, -34.08697)   1716  \n",
       "\n",
       "[285 rows x 24 columns]"
      ]
     },
     "execution_count": 12,
     "metadata": {},
     "output_type": "execute_result"
    }
   ],
   "source": []
  },
  {
   "cell_type": "markdown",
   "metadata": {},
   "source": [
    "# Cleaning the data"
   ]
  },
  {
   "cell_type": "code",
   "execution_count": 13,
   "metadata": {},
   "outputs": [
    {
     "data": {
      "text/plain": [
       "(1740, 24)"
      ]
     },
     "execution_count": 13,
     "metadata": {},
     "output_type": "execute_result"
    }
   ],
   "source": [
    "q = ['en','nl','und']\n",
    "#drop duplicates\n",
    "df = df.drop_duplicates(keep='first')\n",
    "df.shape\n",
    "#drop non south african languages\n",
    "#df.drop(df[ (df['lang'] != 'en') & (df['lang'] != 'nl') & (df['lang'] != 'und') ].index, inplace = True)\n",
    "df1 = df\n",
    "#df1.drop(df1[ (df1['lang'] != 'en') ].index, inplace = True)\n",
    "\n",
    "df.shape"
   ]
  },
  {
   "cell_type": "code",
   "execution_count": 14,
   "metadata": {},
   "outputs": [],
   "source": [
    "#removing numbers\n",
    "df1['text'] = df1['text'].astype('string')\n",
    "df1.dropna(subset=['text'], inplace=True)"
   ]
  },
  {
   "cell_type": "code",
   "execution_count": 15,
   "metadata": {},
   "outputs": [],
   "source": [
    "#make hashtag column\n",
    "def extract_hashtags(text):\n",
    "     \n",
    "    # the regular expression\n",
    "    regex = \"#(\\w+)\"\n",
    "     \n",
    "    # extracting the hashtags\n",
    "    hashtag_list = re.findall(regex, text)\n",
    "     \n",
    "    # printing the hashtag_list\n",
    "    return(hashtag_list)\n",
    "        \n",
    "\n",
    "#def find_hash(data):\n",
    "    #hword=re.findall(r'(?<=#)\\w+',data)\n",
    "    #return \" \".join(hword)\n",
    "\n",
    "df1[\"hashtag\"]=df1[\"text\"].apply(lambda x: extract_hashtags(x))"
   ]
  },
  {
   "cell_type": "code",
   "execution_count": 16,
   "metadata": {},
   "outputs": [
    {
     "name": "stdout",
     "output_type": "stream",
     "text": [
      "0                              [NYE]\n",
      "1                    [sadtweet, NYE]\n",
      "2                             [jozi]\n",
      "3                 [Johannesburg, CT]\n",
      "4                     [Johannesburg]\n",
      "                    ...             \n",
      "1735           [3rddegree, CapeTown]\n",
      "1736                      [CapeTown]\n",
      "1737                      [CapeTown]\n",
      "1738                      [CapeTown]\n",
      "1739    [tittytuesday, Johannesburg]\n",
      "Name: hashtag, Length: 1740, dtype: object\n"
     ]
    }
   ],
   "source": [
    "print(df1['hashtag'])"
   ]
  },
  {
   "cell_type": "code",
   "execution_count": 17,
   "metadata": {},
   "outputs": [
    {
     "data": {
      "text/html": [
       "<div>\n",
       "<style scoped>\n",
       "    .dataframe tbody tr th:only-of-type {\n",
       "        vertical-align: middle;\n",
       "    }\n",
       "\n",
       "    .dataframe tbody tr th {\n",
       "        vertical-align: top;\n",
       "    }\n",
       "\n",
       "    .dataframe thead th {\n",
       "        text-align: right;\n",
       "    }\n",
       "</style>\n",
       "<table border=\"1\" class=\"dataframe\">\n",
       "  <thead>\n",
       "    <tr style=\"text-align: right;\">\n",
       "      <th></th>\n",
       "      <th>id</th>\n",
       "      <th>source</th>\n",
       "      <th>created_at</th>\n",
       "      <th>lang</th>\n",
       "      <th>text</th>\n",
       "      <th>label</th>\n",
       "      <th>possibly_sensitive</th>\n",
       "      <th>edit_history_tweet_ids</th>\n",
       "      <th>author_id</th>\n",
       "      <th>conversation_id</th>\n",
       "      <th>...</th>\n",
       "      <th>mentions</th>\n",
       "      <th>retweet_count</th>\n",
       "      <th>reply_count</th>\n",
       "      <th>like_count</th>\n",
       "      <th>quote_count</th>\n",
       "      <th>place_id</th>\n",
       "      <th>coordinates.type</th>\n",
       "      <th>coordinates.coordinates</th>\n",
       "      <th>index</th>\n",
       "      <th>hashtag</th>\n",
       "    </tr>\n",
       "  </thead>\n",
       "  <tbody>\n",
       "    <tr>\n",
       "      <th>0</th>\n",
       "      <td>1.532864e+17</td>\n",
       "      <td>Twitter for BlackBerry¬Æ</td>\n",
       "      <td>2012-01-01T01:28:19.000Z</td>\n",
       "      <td>en</td>\n",
       "      <td>eish and since then it got a lot worse p nye</td>\n",
       "      <td>NaN</td>\n",
       "      <td>False</td>\n",
       "      <td>1.532864e+17</td>\n",
       "      <td>83786624.0</td>\n",
       "      <td>1.532850e+17</td>\n",
       "      <td>...</td>\n",
       "      <td>list(start = 0, end = 13, username = \"DorothyB...</td>\n",
       "      <td>0</td>\n",
       "      <td>0.0</td>\n",
       "      <td>0.0</td>\n",
       "      <td>0.0</td>\n",
       "      <td>NaN</td>\n",
       "      <td>NaN</td>\n",
       "      <td>NaN</td>\n",
       "      <td>0</td>\n",
       "      <td>[NYE]</td>\n",
       "    </tr>\n",
       "    <tr>\n",
       "      <th>1</th>\n",
       "      <td>1.532881e+17</td>\n",
       "      <td>Twitter for BlackBerry¬Æ</td>\n",
       "      <td>2012-01-01T01:35:15.000Z</td>\n",
       "      <td>tl</td>\n",
       "      <td>dude long street looks like fucking lagos sadt...</td>\n",
       "      <td>-1.0</td>\n",
       "      <td>False</td>\n",
       "      <td>1.532881e+17</td>\n",
       "      <td>83786624.0</td>\n",
       "      <td>1.532872e+17</td>\n",
       "      <td>...</td>\n",
       "      <td>list(start = 0, end = 13, username = \"ZlatanDz...</td>\n",
       "      <td>0</td>\n",
       "      <td>0.0</td>\n",
       "      <td>0.0</td>\n",
       "      <td>0.0</td>\n",
       "      <td>NaN</td>\n",
       "      <td>NaN</td>\n",
       "      <td>NaN</td>\n",
       "      <td>1</td>\n",
       "      <td>[sadtweet, NYE]</td>\n",
       "    </tr>\n",
       "    <tr>\n",
       "      <th>2</th>\n",
       "      <td>1.533571e+17</td>\n",
       "      <td>TweetCaster for Android</td>\n",
       "      <td>2012-01-01T06:09:24.000Z</td>\n",
       "      <td>en</td>\n",
       "      <td>touch down baby jozi thanks kulula</td>\n",
       "      <td>NaN</td>\n",
       "      <td>False</td>\n",
       "      <td>1.533571e+17</td>\n",
       "      <td>6225362.0</td>\n",
       "      <td>1.533571e+17</td>\n",
       "      <td>...</td>\n",
       "      <td>NaN</td>\n",
       "      <td>0</td>\n",
       "      <td>0.0</td>\n",
       "      <td>0.0</td>\n",
       "      <td>0.0</td>\n",
       "      <td>d98aef293ae7311d</td>\n",
       "      <td>Point</td>\n",
       "      <td>c(28.2355678, -26.1234539)</td>\n",
       "      <td>2</td>\n",
       "      <td>[jozi]</td>\n",
       "    </tr>\n",
       "    <tr>\n",
       "      <th>3</th>\n",
       "      <td>1.533609e+17</td>\n",
       "      <td>Twitter for iPhone</td>\n",
       "      <td>2012-01-01T06:24:22.000Z</td>\n",
       "      <td>en</td>\n",
       "      <td>waiting at the airport off to johannesburg soo...</td>\n",
       "      <td>NaN</td>\n",
       "      <td>False</td>\n",
       "      <td>1.533609e+17</td>\n",
       "      <td>170696303.0</td>\n",
       "      <td>1.533609e+17</td>\n",
       "      <td>...</td>\n",
       "      <td>NaN</td>\n",
       "      <td>0</td>\n",
       "      <td>1.0</td>\n",
       "      <td>0.0</td>\n",
       "      <td>0.0</td>\n",
       "      <td>8b9ec16fdc0d7e55</td>\n",
       "      <td>Point</td>\n",
       "      <td>c(18.59716255, -33.96924694)</td>\n",
       "      <td>3</td>\n",
       "      <td>[Johannesburg, CT]</td>\n",
       "    </tr>\n",
       "    <tr>\n",
       "      <th>4</th>\n",
       "      <td>1.533788e+17</td>\n",
       "      <td>Twitter for iPhone</td>\n",
       "      <td>2012-01-01T07:35:34.000Z</td>\n",
       "      <td>en</td>\n",
       "      <td>time to fly johannesburg here i come going to ...</td>\n",
       "      <td>NaN</td>\n",
       "      <td>False</td>\n",
       "      <td>1.533788e+17</td>\n",
       "      <td>170696303.0</td>\n",
       "      <td>1.533788e+17</td>\n",
       "      <td>...</td>\n",
       "      <td>NaN</td>\n",
       "      <td>0</td>\n",
       "      <td>0.0</td>\n",
       "      <td>0.0</td>\n",
       "      <td>0.0</td>\n",
       "      <td>8b9ec16fdc0d7e55</td>\n",
       "      <td>Point</td>\n",
       "      <td>c(18.59945206, -33.97402462)</td>\n",
       "      <td>4</td>\n",
       "      <td>[Johannesburg]</td>\n",
       "    </tr>\n",
       "  </tbody>\n",
       "</table>\n",
       "<p>5 rows × 25 columns</p>\n",
       "</div>"
      ],
      "text/plain": [
       "             id                    source                created_at lang  \\\n",
       "0  1.532864e+17  Twitter for BlackBerry¬Æ  2012-01-01T01:28:19.000Z   en   \n",
       "1  1.532881e+17  Twitter for BlackBerry¬Æ  2012-01-01T01:35:15.000Z   tl   \n",
       "2  1.533571e+17   TweetCaster for Android  2012-01-01T06:09:24.000Z   en   \n",
       "3  1.533609e+17        Twitter for iPhone  2012-01-01T06:24:22.000Z   en   \n",
       "4  1.533788e+17        Twitter for iPhone  2012-01-01T07:35:34.000Z   en   \n",
       "\n",
       "                                                text  label  \\\n",
       "0       eish and since then it got a lot worse p nye    NaN   \n",
       "1  dude long street looks like fucking lagos sadt...   -1.0   \n",
       "2                 touch down baby jozi thanks kulula    NaN   \n",
       "3  waiting at the airport off to johannesburg soo...    NaN   \n",
       "4  time to fly johannesburg here i come going to ...    NaN   \n",
       "\n",
       "   possibly_sensitive  edit_history_tweet_ids    author_id  conversation_id  \\\n",
       "0               False            1.532864e+17   83786624.0     1.532850e+17   \n",
       "1               False            1.532881e+17   83786624.0     1.532872e+17   \n",
       "2               False            1.533571e+17    6225362.0     1.533571e+17   \n",
       "3               False            1.533609e+17  170696303.0     1.533609e+17   \n",
       "4               False            1.533788e+17  170696303.0     1.533788e+17   \n",
       "\n",
       "   ...                                           mentions retweet_count  \\\n",
       "0  ...  list(start = 0, end = 13, username = \"DorothyB...             0   \n",
       "1  ...  list(start = 0, end = 13, username = \"ZlatanDz...             0   \n",
       "2  ...                                                NaN             0   \n",
       "3  ...                                                NaN             0   \n",
       "4  ...                                                NaN             0   \n",
       "\n",
       "   reply_count like_count quote_count          place_id  coordinates.type  \\\n",
       "0          0.0        0.0         0.0               NaN               NaN   \n",
       "1          0.0        0.0         0.0               NaN               NaN   \n",
       "2          0.0        0.0         0.0  d98aef293ae7311d             Point   \n",
       "3          1.0        0.0         0.0  8b9ec16fdc0d7e55             Point   \n",
       "4          0.0        0.0         0.0  8b9ec16fdc0d7e55             Point   \n",
       "\n",
       "        coordinates.coordinates  index             hashtag  \n",
       "0                           NaN      0               [NYE]  \n",
       "1                           NaN      1     [sadtweet, NYE]  \n",
       "2    c(28.2355678, -26.1234539)      2              [jozi]  \n",
       "3  c(18.59716255, -33.96924694)      3  [Johannesburg, CT]  \n",
       "4  c(18.59945206, -33.97402462)      4      [Johannesburg]  \n",
       "\n",
       "[5 rows x 25 columns]"
      ]
     },
     "execution_count": 17,
     "metadata": {},
     "output_type": "execute_result"
    }
   ],
   "source": [
    "#lowercase\n",
    "df1['text']=df1['text'].apply(lambda x: x.lower())\n",
    "\n",
    "#print(textDF.head())\n",
    "#itworked!\n",
    "\n",
    "#removing mentions\n",
    "df1['text']=df1['text'].apply(lambda x: re.sub(\"@[A-Za-z0-9_]+\",'', x))\n",
    "\n",
    "#removing numbers and words containing numbers\n",
    "df1['text']=df1['text'].apply(lambda x: re.sub('\\w*\\d\\w*','', x))\n",
    "\n",
    "#removing hashtags?\n",
    "#df1['text']=df1['text'].apply(lambda x: re.sub(\"#[A-Za-z0-9_]+\",'', x))\n",
    "#df1['text']=df1['text'].apply(lambda x: re.split('#|_', x))\n",
    "df1['text']=df1['text'].apply(lambda x: \" \".join(word.strip() for word in re.split('#|_', x)))\n",
    "\n",
    "\n",
    "#removing links\n",
    "df1['text']=df1['text'].apply(lambda x: re.sub(r\"http\\S+\",'', x))\n",
    "df1['text']=df1['text'].apply(lambda x: re.sub(r\"www.\\S+\",'', x))\n",
    "\n",
    "\n",
    "#removing punctuation\n",
    "df1['text']=df1['text'].apply(lambda x: re.sub('[%s]' % re.escape(string.punctuation), '', x))\n",
    "\n",
    "#removing empty spaces and special characters\n",
    "df1['text']=df1['text'].apply(lambda x: re.sub('[^A-Za-z0-9]+',' ',x))\n",
    "\n",
    "df1.shape\n",
    "df1.head()"
   ]
  },
  {
   "cell_type": "markdown",
   "metadata": {},
   "source": [
    "# Removing stopwords"
   ]
  },
  {
   "cell_type": "code",
   "execution_count": 18,
   "metadata": {},
   "outputs": [
    {
     "name": "stdout",
     "output_type": "stream",
     "text": [
      "{'be', 'since', 'an', 'please', 'nor', 'along', 'always', 'well', 'twenty', 'may', 'so', 'the', 'our', 'other', 'nevertheless', 'beforehand', 'already', 'full', \"'s\", 'within', 'keep', 'elsewhere', 'beside', 'forty', 'alone', 'front', 'are', 'n’t', 'or', 'at', 'towards', 'was', 'yourselves', 'therein', 'beyond', 'thereafter', 'while', 'several', 'which', '‘ll', 'last', 'quite', 'else', 'never', 'whenever', 'side', 'indeed', 'them', 'seems', 'third', 'why', 'much', 'each', '’ll', 'out', 'throughout', 'mostly', 'now', 'it', 'whereby', 'others', 'amount', 'nine', 'former', 'also', 'wherever', 'twelve', 'further', 'doing', 'and', 'thereby', 'everyone', 'will', 'per', 'over', 'whole', 'after', 'thereupon', 'various', 'regarding', 'these', 'ten', \"'d\", 'same', 'can', 'been', 'noone', 'whatever', 'although', 'every', 'how', 'becomes', 'your', 'anyone', 'around', 'those', 'see', 'without', 'sometimes', 'yourself', 'hereafter', 'almost', 'herein', '‘ve', 'five', 'meanwhile', 'something', 'herself', 'they', 'with', 'onto', 'such', 'again', 'that', 'would', 'himself', 'against', 'a', 'were', 'whereas', 'yours', 'either', 'whoever', 'another', 'became', 'because', 'get', 'her', 'unless', 'therefore', 'i', 'before', 'done', 'some', 'anywhere', 'thus', 'nowhere', 'his', 'toward', 'least', 'except', 'both', 'eight', 'nobody', 'four', 'empty', 'besides', 'hence', 'no', 'bottom', 'had', 'seeming', 'eleven', 'anyhow', 'enough', 'about', 'few', 'am', 'on', 'part', 'anything', 'six', 'neither', 'whereupon', 'everywhere', 'being', 'none', 'down', 'should', 'becoming', 'here', 'serious', \"'re\", 'ourselves', 'latter', '‘m', 'make', 'put', 'upon', 'must', 'their', 'by', 'hereby', 'two', 'anyway', 'sometime', 'hers', 'themselves', '‘d', 'too', 'amongst', \"n't\", 'this', 'among', 'whether', 'often', 'n‘t', 'wherein', 'as', '’ve', 'could', 'seemed', 'all', 'latterly', 'first', 'made', 'me', 'until', 'in', 'into', 'one', 'whom', 'own', 'three', 'ever', 'back', 'is', 'thru', 'under', 'however', 'become', 'next', 'ca', 'below', 'thence', 'afterwards', 'does', 'did', 'together', 'somewhere', 'via', 'its', 'ours', 'go', 'show', \"'ll\", 'through', \"'m\", 'do', 'namely', \"'ve\", 'us', 'somehow', 'myself', 'most', 'very', 'using', 'we', 'nothing', 'she', 'any', '’re', 'him', '‘re', 'whence', 'whereafter', '’m', 'whither', 'from', 'move', 'yet', 'give', 'behind', 'during', 'take', 're', 'have', 'once', '’s', 'rather', 'there', 'if', 'really', 'my', 'up', 'he', 'itself', 'more', 'top', 'though', 'for', 'even', 'someone', 'mine', 'fifteen', 'whose', 'still', 'has', 'name', 'of', 'used', 'what', 'many', 'who', 'between', 'but', 'everything', 'than', 'hundred', 'cannot', '‘s', 'due', 'above', '’d', 'fifty', 'less', 'say', 'across', 'call', 'then', 'formerly', 'perhaps', 'when', 'hereupon', 'might', 'where', 'just', 'to', 'otherwise', 'seem', 'not', 'only', 'you', 'off', 'sixty', 'moreover'}\n"
     ]
    }
   ],
   "source": [
    "import spacy\n",
    "nlp = spacy.load('en_core_web_sm')\n",
    "# Print the set of spaCy's default stop words (remember that sets are unordered):\n",
    "print(nlp.Defaults.stop_words)"
   ]
  },
  {
   "cell_type": "code",
   "execution_count": 19,
   "metadata": {},
   "outputs": [
    {
     "name": "stdout",
     "output_type": "stream",
     "text": [
      "True\n"
     ]
    }
   ],
   "source": [
    "#to see if something is a stopword\n",
    "print(nlp.vocab['myself'].is_stop)\n"
   ]
  },
  {
   "cell_type": "code",
   "execution_count": 20,
   "metadata": {},
   "outputs": [],
   "source": [
    "#add twitter as a stop word and rt\n",
    "# Add the word to the set of stop words. Use LOWERCASE!\n",
    "nlp.Defaults.stop_words.add('twitter')\n",
    "nlp.Defaults.stop_words.add('rt')\n",
    "nlp.Defaults.stop_words.add('s')\n",
    "nlp.Defaults.stop_words.add('tweet')\n",
    "nlp.Defaults.stop_words.add('trend')\n",
    "nlp.Defaults.stop_words.add('follower')\n",
    "nlp.Defaults.stop_words.add('null')\n",
    "nlp.Defaults.stop_words.add('http')\n",
    "nlp.Defaults.stop_words.add('url')\n",
    "\n",
    "# Set the stop_word tag on the lexeme\n",
    "nlp.vocab['twitter'].is_stop = True\n",
    "nlp.vocab['rt'].is_stop = True\n",
    "nlp.vocab['s'].is_stop = True\n",
    "nlp.vocab['tweet'].is_stop = True\n",
    "nlp.vocab['trend'].is_stop = True\n",
    "nlp.vocab['follower'].is_stop = True\n",
    "nlp.vocab['null'].is_stop = True\n",
    "nlp.vocab['http'].is_stop = True\n",
    "nlp.vocab['url'].is_stop = True\n",
    "\n",
    "stop = nlp.Defaults.stop_words"
   ]
  },
  {
   "cell_type": "markdown",
   "metadata": {},
   "source": [
    "# Lemmatisation & Stopword removal "
   ]
  },
  {
   "cell_type": "code",
   "execution_count": 21,
   "metadata": {},
   "outputs": [],
   "source": [
    "# Loading model\n",
    "nlp = spacy.load('en_core_web_sm')\n",
    "\n",
    "# Lemmatization with stopwords removal\n",
    "df1[\"text\"]=df1[\"text\"].apply(lambda x: ' '.join([token.lemma_ for token in list(nlp(x)) if ((token.is_stop==False)&((token.pos_==\"ADJ\")|(token.pos_==\"NOUN\")|(token.pos_==\"VERB\")))]))\n",
    "#df1.head()\n",
    "\n",
    "#df1[\"text\"]=df1[\"text\"].apply(lambda x: ' '.join([token.lemma_ for token in list(nlp(x)) if ((token.is_stop==False))]))"
   ]
  },
  {
   "cell_type": "code",
   "execution_count": 22,
   "metadata": {},
   "outputs": [
    {
     "data": {
      "text/plain": [
       "(1740, 25)"
      ]
     },
     "execution_count": 22,
     "metadata": {},
     "output_type": "execute_result"
    }
   ],
   "source": [
    "df1.shape"
   ]
  },
  {
   "cell_type": "code",
   "execution_count": 23,
   "metadata": {},
   "outputs": [
    {
     "data": {
      "text/plain": [
       "(1740, 25)"
      ]
     },
     "execution_count": 23,
     "metadata": {},
     "output_type": "execute_result"
    }
   ],
   "source": [
    "#getting rid of empty text rows\n",
    "df1.dropna(subset = \"text\", inplace=True)\n",
    "df1.shape"
   ]
  },
  {
   "cell_type": "markdown",
   "metadata": {},
   "source": [
    "# Sentiment libraries"
   ]
  },
  {
   "cell_type": "code",
   "execution_count": 24,
   "metadata": {},
   "outputs": [],
   "source": [
    "# import SentimentIntensityAnalyzer class\n",
    "# from vaderSentiment.vaderSentiment module.\n",
    "from vaderSentiment.vaderSentiment import SentimentIntensityAnalyzer\n",
    "sid_obj = SentimentIntensityAnalyzer()"
   ]
  },
  {
   "cell_type": "code",
   "execution_count": 25,
   "metadata": {},
   "outputs": [],
   "source": [
    "#pip install vaderSentiment\n",
    "\n",
    "#add a new column \n",
    "lists = list(range(len(df)))\n",
    "df[\"Sentiment\"] = lists\n",
    "\n",
    "#aply function to get sentiment for each row\n",
    "#df1['Sentiment'] = df1['text'].apply(lambda x: sid_obj.polarity_scores(x)['compound'])\n",
    "result = []\n",
    "\n",
    "df1[\"text\"] = pd.DataFrame(df1[\"text\"] )\n",
    "type(df1[\"text\"] )\n",
    "\n",
    "for index, row in df1.iterrows():\n",
    "     text = row['text']\n",
    "     sentiment  = sid_obj.polarity_scores(text)['compound']\n",
    "     result.append((sentiment))\n",
    "\n",
    "df1['Sentiment'] = result"
   ]
  },
  {
   "cell_type": "code",
   "execution_count": 26,
   "metadata": {},
   "outputs": [],
   "source": [
    "#df1.to_excel(r'/Users/lise-mariehugo/Desktop/2016DecHash.xlsx')"
   ]
  },
  {
   "cell_type": "markdown",
   "metadata": {},
   "source": [
    "## Feature extraction"
   ]
  },
  {
   "cell_type": "code",
   "execution_count": 27,
   "metadata": {},
   "outputs": [
    {
     "data": {
      "text/plain": [
       "(1740, 42)"
      ]
     },
     "execution_count": 27,
     "metadata": {},
     "output_type": "execute_result"
    }
   ],
   "source": [
    "from sklearn.feature_extraction.text import CountVectorizer\n",
    "\n",
    "df1.shape\n",
    "\n",
    "#min_df=2\n",
    "vectorizer = CountVectorizer(min_df=10)\n",
    "X = vectorizer.fit_transform(df1[\"text\"])\n",
    "\n",
    "Y = X.toarray()\n",
    "    \n",
    "\n",
    "#feat_dict=vectorizer.vocabulary_.keys()\n",
    "nummat = pd.DataFrame(data=Y, columns=vectorizer.get_feature_names_out())\n",
    "\n",
    "counter = nummat.sum()\n",
    "\n",
    "#print(nummat.head())\n",
    "\n",
    "counter.to_excel(r'/Users/lise-mariehugo/Desktop/Mat.xlsx')\n",
    "\n",
    "\n",
    "\n",
    "nummat.shape"
   ]
  },
  {
   "cell_type": "code",
   "execution_count": 28,
   "metadata": {},
   "outputs": [
    {
     "data": {
      "text/plain": [
       "(1740, 42)"
      ]
     },
     "execution_count": 28,
     "metadata": {},
     "output_type": "execute_result"
    }
   ],
   "source": [
    "#TD-IDF\n",
    "from sklearn.feature_extraction.text import TfidfTransformer\n",
    "tfidf_transformer = TfidfTransformer()\n",
    "#print(corpus2)\n",
    "X_train_tfidf = tfidf_transformer.fit_transform(X)\n",
    "Y = X_train_tfidf.toarray()\n",
    "#checking type\n",
    "#test.dtypes()\n",
    "nummat2 = pd.DataFrame(data=Y, columns=vectorizer.get_feature_names_out())\n",
    "\n",
    "nummat2.shape\n"
   ]
  },
  {
   "cell_type": "code",
   "execution_count": 29,
   "metadata": {},
   "outputs": [],
   "source": [
    "#chi-square\n",
    "#from sklearn.feature_selection import SelectKBest\n",
    "#from sklearn.feature_selection import chi2\n",
    "\n",
    "#X_new = SelectKBest(chi2, k=2).fit_transform(X, y)\n",
    "#X_new.shape\n"
   ]
  },
  {
   "cell_type": "code",
   "execution_count": 30,
   "metadata": {},
   "outputs": [
    {
     "data": {
      "text/html": [
       "<div>\n",
       "<style scoped>\n",
       "    .dataframe tbody tr th:only-of-type {\n",
       "        vertical-align: middle;\n",
       "    }\n",
       "\n",
       "    .dataframe tbody tr th {\n",
       "        vertical-align: top;\n",
       "    }\n",
       "\n",
       "    .dataframe thead th {\n",
       "        text-align: right;\n",
       "    }\n",
       "</style>\n",
       "<table border=\"1\" class=\"dataframe\">\n",
       "  <thead>\n",
       "    <tr style=\"text-align: right;\">\n",
       "      <th></th>\n",
       "      <th>aa</th>\n",
       "      <th>ab</th>\n",
       "      <th>ac</th>\n",
       "      <th>ad</th>\n",
       "      <th>af</th>\n",
       "      <th>ag</th>\n",
       "      <th>ai</th>\n",
       "      <th>aj</th>\n",
       "      <th>al</th>\n",
       "      <th>am</th>\n",
       "      <th>...</th>\n",
       "      <th>ze</th>\n",
       "      <th>zeb</th>\n",
       "      <th>zen</th>\n",
       "      <th>zer</th>\n",
       "      <th>zi</th>\n",
       "      <th>zin</th>\n",
       "      <th>zon</th>\n",
       "      <th>zul</th>\n",
       "      <th>zy</th>\n",
       "      <th>zz</th>\n",
       "    </tr>\n",
       "  </thead>\n",
       "  <tbody>\n",
       "    <tr>\n",
       "      <th>0</th>\n",
       "      <td>0</td>\n",
       "      <td>0</td>\n",
       "      <td>0</td>\n",
       "      <td>0</td>\n",
       "      <td>0</td>\n",
       "      <td>0</td>\n",
       "      <td>0</td>\n",
       "      <td>0</td>\n",
       "      <td>0</td>\n",
       "      <td>0</td>\n",
       "      <td>...</td>\n",
       "      <td>0</td>\n",
       "      <td>0</td>\n",
       "      <td>0</td>\n",
       "      <td>0</td>\n",
       "      <td>0</td>\n",
       "      <td>0</td>\n",
       "      <td>0</td>\n",
       "      <td>0</td>\n",
       "      <td>0</td>\n",
       "      <td>0</td>\n",
       "    </tr>\n",
       "    <tr>\n",
       "      <th>1</th>\n",
       "      <td>0</td>\n",
       "      <td>0</td>\n",
       "      <td>0</td>\n",
       "      <td>0</td>\n",
       "      <td>0</td>\n",
       "      <td>0</td>\n",
       "      <td>0</td>\n",
       "      <td>0</td>\n",
       "      <td>0</td>\n",
       "      <td>0</td>\n",
       "      <td>...</td>\n",
       "      <td>0</td>\n",
       "      <td>0</td>\n",
       "      <td>0</td>\n",
       "      <td>0</td>\n",
       "      <td>0</td>\n",
       "      <td>0</td>\n",
       "      <td>0</td>\n",
       "      <td>0</td>\n",
       "      <td>0</td>\n",
       "      <td>0</td>\n",
       "    </tr>\n",
       "    <tr>\n",
       "      <th>2</th>\n",
       "      <td>0</td>\n",
       "      <td>0</td>\n",
       "      <td>0</td>\n",
       "      <td>0</td>\n",
       "      <td>0</td>\n",
       "      <td>0</td>\n",
       "      <td>0</td>\n",
       "      <td>0</td>\n",
       "      <td>0</td>\n",
       "      <td>0</td>\n",
       "      <td>...</td>\n",
       "      <td>0</td>\n",
       "      <td>0</td>\n",
       "      <td>0</td>\n",
       "      <td>0</td>\n",
       "      <td>0</td>\n",
       "      <td>0</td>\n",
       "      <td>0</td>\n",
       "      <td>0</td>\n",
       "      <td>0</td>\n",
       "      <td>0</td>\n",
       "    </tr>\n",
       "    <tr>\n",
       "      <th>3</th>\n",
       "      <td>0</td>\n",
       "      <td>0</td>\n",
       "      <td>0</td>\n",
       "      <td>0</td>\n",
       "      <td>0</td>\n",
       "      <td>0</td>\n",
       "      <td>1</td>\n",
       "      <td>0</td>\n",
       "      <td>0</td>\n",
       "      <td>0</td>\n",
       "      <td>...</td>\n",
       "      <td>0</td>\n",
       "      <td>0</td>\n",
       "      <td>0</td>\n",
       "      <td>0</td>\n",
       "      <td>0</td>\n",
       "      <td>0</td>\n",
       "      <td>0</td>\n",
       "      <td>0</td>\n",
       "      <td>0</td>\n",
       "      <td>0</td>\n",
       "    </tr>\n",
       "    <tr>\n",
       "      <th>4</th>\n",
       "      <td>0</td>\n",
       "      <td>0</td>\n",
       "      <td>0</td>\n",
       "      <td>0</td>\n",
       "      <td>0</td>\n",
       "      <td>0</td>\n",
       "      <td>0</td>\n",
       "      <td>0</td>\n",
       "      <td>0</td>\n",
       "      <td>0</td>\n",
       "      <td>...</td>\n",
       "      <td>0</td>\n",
       "      <td>0</td>\n",
       "      <td>0</td>\n",
       "      <td>0</td>\n",
       "      <td>0</td>\n",
       "      <td>0</td>\n",
       "      <td>0</td>\n",
       "      <td>0</td>\n",
       "      <td>0</td>\n",
       "      <td>0</td>\n",
       "    </tr>\n",
       "  </tbody>\n",
       "</table>\n",
       "<p>5 rows × 2996 columns</p>\n",
       "</div>"
      ],
      "text/plain": [
       "    aa   ab   ac   ad   af   ag   ai   aj   al   am  ...  ze   zeb  zen  zer  \\\n",
       "0    0    0    0    0    0    0    0    0    0    0  ...    0    0    0    0   \n",
       "1    0    0    0    0    0    0    0    0    0    0  ...    0    0    0    0   \n",
       "2    0    0    0    0    0    0    0    0    0    0  ...    0    0    0    0   \n",
       "3    0    0    0    0    0    0    1    0    0    0  ...    0    0    0    0   \n",
       "4    0    0    0    0    0    0    0    0    0    0  ...    0    0    0    0   \n",
       "\n",
       "   zi   zin  zon  zul  zy   zz   \n",
       "0    0    0    0    0    0    0  \n",
       "1    0    0    0    0    0    0  \n",
       "2    0    0    0    0    0    0  \n",
       "3    0    0    0    0    0    0  \n",
       "4    0    0    0    0    0    0  \n",
       "\n",
       "[5 rows x 2996 columns]"
      ]
     },
     "execution_count": 30,
     "metadata": {},
     "output_type": "execute_result"
    }
   ],
   "source": [
    "#n-gram feature\n",
    "ngram_vectorizer = CountVectorizer(analyzer='char_wb', ngram_range=(3, 3))\n",
    "counts = ngram_vectorizer.fit_transform(df1[\"text\"])\n",
    "Y = counts.toarray()\n",
    "nummat3 = pd.DataFrame(data=Y, columns=ngram_vectorizer.get_feature_names_out())\n",
    "nummat3.head()"
   ]
  },
  {
   "cell_type": "code",
   "execution_count": 31,
   "metadata": {},
   "outputs": [
    {
     "data": {
      "text/plain": [
       "0                          get lot bad p\n",
       "1                  long street look fuck\n",
       "2                       touch baby thank\n",
       "3    wait airport beautiful morning miss\n",
       "4          time fly come go miss soonest\n",
       "Name: text, dtype: object"
      ]
     },
     "execution_count": 31,
     "metadata": {},
     "output_type": "execute_result"
    }
   ],
   "source": [
    "#sid_obj = SentimentIntensityAnalyzer()\n",
    "#result = sid_obj.polarity_scores(df1['text'][1])['compound']\n",
    "#print(result)\n",
    "\n",
    "#range(df1['sentiment'])\n",
    "df1['text'].head()"
   ]
  },
  {
   "cell_type": "code",
   "execution_count": 32,
   "metadata": {},
   "outputs": [],
   "source": [
    "counter = nummat3.sum()\n",
    "\n",
    "#print(nummat.head())\n",
    "\n",
    "counter.to_excel(r'/Users/lise-mariehugo/Desktop/Mat.xlsx')\n"
   ]
  },
  {
   "cell_type": "markdown",
   "metadata": {},
   "source": [
    "# Creating final data frame"
   ]
  },
  {
   "cell_type": "code",
   "execution_count": 33,
   "metadata": {},
   "outputs": [],
   "source": [
    "\n",
    "df1 = df1.reset_index(drop=True)\n",
    "finaldf = pd.concat([df1, nummat2], axis=1)\n"
   ]
  },
  {
   "cell_type": "code",
   "execution_count": 34,
   "metadata": {},
   "outputs": [
    {
     "data": {
      "text/html": [
       "<div>\n",
       "<style scoped>\n",
       "    .dataframe tbody tr th:only-of-type {\n",
       "        vertical-align: middle;\n",
       "    }\n",
       "\n",
       "    .dataframe tbody tr th {\n",
       "        vertical-align: top;\n",
       "    }\n",
       "\n",
       "    .dataframe thead th {\n",
       "        text-align: right;\n",
       "    }\n",
       "</style>\n",
       "<table border=\"1\" class=\"dataframe\">\n",
       "  <thead>\n",
       "    <tr style=\"text-align: right;\">\n",
       "      <th></th>\n",
       "      <th>id</th>\n",
       "      <th>source</th>\n",
       "      <th>created_at</th>\n",
       "      <th>lang</th>\n",
       "      <th>text</th>\n",
       "      <th>label</th>\n",
       "      <th>possibly_sensitive</th>\n",
       "      <th>edit_history_tweet_ids</th>\n",
       "      <th>author_id</th>\n",
       "      <th>conversation_id</th>\n",
       "      <th>...</th>\n",
       "      <th>time</th>\n",
       "      <th>today</th>\n",
       "      <th>town</th>\n",
       "      <th>travel</th>\n",
       "      <th>trend</th>\n",
       "      <th>visit</th>\n",
       "      <th>way</th>\n",
       "      <th>wo</th>\n",
       "      <th>world</th>\n",
       "      <th>year</th>\n",
       "    </tr>\n",
       "  </thead>\n",
       "  <tbody>\n",
       "    <tr>\n",
       "      <th>0</th>\n",
       "      <td>1.532864e+17</td>\n",
       "      <td>Twitter for BlackBerry¬Æ</td>\n",
       "      <td>2012-01-01T01:28:19.000Z</td>\n",
       "      <td>en</td>\n",
       "      <td>get lot bad p</td>\n",
       "      <td>NaN</td>\n",
       "      <td>False</td>\n",
       "      <td>1.532864e+17</td>\n",
       "      <td>83786624.0</td>\n",
       "      <td>1.532850e+17</td>\n",
       "      <td>...</td>\n",
       "      <td>0.000000</td>\n",
       "      <td>0.0</td>\n",
       "      <td>0.0</td>\n",
       "      <td>0.0</td>\n",
       "      <td>0.000000</td>\n",
       "      <td>0.0</td>\n",
       "      <td>0.0</td>\n",
       "      <td>0.0</td>\n",
       "      <td>0.0</td>\n",
       "      <td>0.0</td>\n",
       "    </tr>\n",
       "    <tr>\n",
       "      <th>1</th>\n",
       "      <td>1.532881e+17</td>\n",
       "      <td>Twitter for BlackBerry¬Æ</td>\n",
       "      <td>2012-01-01T01:35:15.000Z</td>\n",
       "      <td>tl</td>\n",
       "      <td>long street look fuck</td>\n",
       "      <td>-1.0</td>\n",
       "      <td>False</td>\n",
       "      <td>1.532881e+17</td>\n",
       "      <td>83786624.0</td>\n",
       "      <td>1.532872e+17</td>\n",
       "      <td>...</td>\n",
       "      <td>0.000000</td>\n",
       "      <td>0.0</td>\n",
       "      <td>0.0</td>\n",
       "      <td>0.0</td>\n",
       "      <td>0.000000</td>\n",
       "      <td>0.0</td>\n",
       "      <td>0.0</td>\n",
       "      <td>0.0</td>\n",
       "      <td>0.0</td>\n",
       "      <td>0.0</td>\n",
       "    </tr>\n",
       "    <tr>\n",
       "      <th>2</th>\n",
       "      <td>1.533571e+17</td>\n",
       "      <td>TweetCaster for Android</td>\n",
       "      <td>2012-01-01T06:09:24.000Z</td>\n",
       "      <td>en</td>\n",
       "      <td>touch baby thank</td>\n",
       "      <td>NaN</td>\n",
       "      <td>False</td>\n",
       "      <td>1.533571e+17</td>\n",
       "      <td>6225362.0</td>\n",
       "      <td>1.533571e+17</td>\n",
       "      <td>...</td>\n",
       "      <td>0.000000</td>\n",
       "      <td>0.0</td>\n",
       "      <td>0.0</td>\n",
       "      <td>0.0</td>\n",
       "      <td>0.000000</td>\n",
       "      <td>0.0</td>\n",
       "      <td>0.0</td>\n",
       "      <td>0.0</td>\n",
       "      <td>0.0</td>\n",
       "      <td>0.0</td>\n",
       "    </tr>\n",
       "    <tr>\n",
       "      <th>3</th>\n",
       "      <td>1.533609e+17</td>\n",
       "      <td>Twitter for iPhone</td>\n",
       "      <td>2012-01-01T06:24:22.000Z</td>\n",
       "      <td>en</td>\n",
       "      <td>wait airport beautiful morning miss</td>\n",
       "      <td>NaN</td>\n",
       "      <td>False</td>\n",
       "      <td>1.533609e+17</td>\n",
       "      <td>170696303.0</td>\n",
       "      <td>1.533609e+17</td>\n",
       "      <td>...</td>\n",
       "      <td>0.000000</td>\n",
       "      <td>0.0</td>\n",
       "      <td>0.0</td>\n",
       "      <td>0.0</td>\n",
       "      <td>0.000000</td>\n",
       "      <td>0.0</td>\n",
       "      <td>0.0</td>\n",
       "      <td>0.0</td>\n",
       "      <td>0.0</td>\n",
       "      <td>0.0</td>\n",
       "    </tr>\n",
       "    <tr>\n",
       "      <th>4</th>\n",
       "      <td>1.533788e+17</td>\n",
       "      <td>Twitter for iPhone</td>\n",
       "      <td>2012-01-01T07:35:34.000Z</td>\n",
       "      <td>en</td>\n",
       "      <td>time fly come go miss soonest</td>\n",
       "      <td>NaN</td>\n",
       "      <td>False</td>\n",
       "      <td>1.533788e+17</td>\n",
       "      <td>170696303.0</td>\n",
       "      <td>1.533788e+17</td>\n",
       "      <td>...</td>\n",
       "      <td>0.588193</td>\n",
       "      <td>0.0</td>\n",
       "      <td>0.0</td>\n",
       "      <td>0.0</td>\n",
       "      <td>0.000000</td>\n",
       "      <td>0.0</td>\n",
       "      <td>0.0</td>\n",
       "      <td>0.0</td>\n",
       "      <td>0.0</td>\n",
       "      <td>0.0</td>\n",
       "    </tr>\n",
       "    <tr>\n",
       "      <th>...</th>\n",
       "      <td>...</td>\n",
       "      <td>...</td>\n",
       "      <td>...</td>\n",
       "      <td>...</td>\n",
       "      <td>...</td>\n",
       "      <td>...</td>\n",
       "      <td>...</td>\n",
       "      <td>...</td>\n",
       "      <td>...</td>\n",
       "      <td>...</td>\n",
       "      <td>...</td>\n",
       "      <td>...</td>\n",
       "      <td>...</td>\n",
       "      <td>...</td>\n",
       "      <td>...</td>\n",
       "      <td>...</td>\n",
       "      <td>...</td>\n",
       "      <td>...</td>\n",
       "      <td>...</td>\n",
       "      <td>...</td>\n",
       "      <td>...</td>\n",
       "    </tr>\n",
       "    <tr>\n",
       "      <th>1735</th>\n",
       "      <td>1.644562e+17</td>\n",
       "      <td>Trendsmap Alerting</td>\n",
       "      <td>2012-01-31T21:13:14.000Z</td>\n",
       "      <td>en</td>\n",
       "      <td>trend capetown</td>\n",
       "      <td>NaN</td>\n",
       "      <td>False</td>\n",
       "      <td>1.644562e+17</td>\n",
       "      <td>132338160.0</td>\n",
       "      <td>1.644562e+17</td>\n",
       "      <td>...</td>\n",
       "      <td>0.000000</td>\n",
       "      <td>0.0</td>\n",
       "      <td>0.0</td>\n",
       "      <td>0.0</td>\n",
       "      <td>0.576363</td>\n",
       "      <td>0.0</td>\n",
       "      <td>0.0</td>\n",
       "      <td>0.0</td>\n",
       "      <td>0.0</td>\n",
       "      <td>0.0</td>\n",
       "    </tr>\n",
       "    <tr>\n",
       "      <th>1736</th>\n",
       "      <td>1.644626e+17</td>\n",
       "      <td>Trendsmap Alerting</td>\n",
       "      <td>2012-01-31T21:38:27.000Z</td>\n",
       "      <td>en</td>\n",
       "      <td>trend capetown</td>\n",
       "      <td>NaN</td>\n",
       "      <td>False</td>\n",
       "      <td>1.644626e+17</td>\n",
       "      <td>132338160.0</td>\n",
       "      <td>1.644626e+17</td>\n",
       "      <td>...</td>\n",
       "      <td>0.000000</td>\n",
       "      <td>0.0</td>\n",
       "      <td>0.0</td>\n",
       "      <td>0.0</td>\n",
       "      <td>0.576363</td>\n",
       "      <td>0.0</td>\n",
       "      <td>0.0</td>\n",
       "      <td>0.0</td>\n",
       "      <td>0.0</td>\n",
       "      <td>0.0</td>\n",
       "    </tr>\n",
       "    <tr>\n",
       "      <th>1737</th>\n",
       "      <td>1.644626e+17</td>\n",
       "      <td>Trendsmap Alerting</td>\n",
       "      <td>2012-01-31T21:38:30.000Z</td>\n",
       "      <td>en</td>\n",
       "      <td>trend capetown</td>\n",
       "      <td>NaN</td>\n",
       "      <td>False</td>\n",
       "      <td>1.644626e+17</td>\n",
       "      <td>132338160.0</td>\n",
       "      <td>1.644626e+17</td>\n",
       "      <td>...</td>\n",
       "      <td>0.000000</td>\n",
       "      <td>0.0</td>\n",
       "      <td>0.0</td>\n",
       "      <td>0.0</td>\n",
       "      <td>0.576363</td>\n",
       "      <td>0.0</td>\n",
       "      <td>0.0</td>\n",
       "      <td>0.0</td>\n",
       "      <td>0.0</td>\n",
       "      <td>0.0</td>\n",
       "    </tr>\n",
       "    <tr>\n",
       "      <th>1738</th>\n",
       "      <td>1.644770e+17</td>\n",
       "      <td>Trendsmap Alerting</td>\n",
       "      <td>2012-01-31T22:35:48.000Z</td>\n",
       "      <td>en</td>\n",
       "      <td>swansea trend capetown</td>\n",
       "      <td>NaN</td>\n",
       "      <td>False</td>\n",
       "      <td>1.644770e+17</td>\n",
       "      <td>132338160.0</td>\n",
       "      <td>1.644770e+17</td>\n",
       "      <td>...</td>\n",
       "      <td>0.000000</td>\n",
       "      <td>0.0</td>\n",
       "      <td>0.0</td>\n",
       "      <td>0.0</td>\n",
       "      <td>0.576363</td>\n",
       "      <td>0.0</td>\n",
       "      <td>0.0</td>\n",
       "      <td>0.0</td>\n",
       "      <td>0.0</td>\n",
       "      <td>0.0</td>\n",
       "    </tr>\n",
       "    <tr>\n",
       "      <th>1739</th>\n",
       "      <td>1.644772e+17</td>\n",
       "      <td>Trendsmap Alerting</td>\n",
       "      <td>2012-01-31T22:36:26.000Z</td>\n",
       "      <td>en</td>\n",
       "      <td>trend</td>\n",
       "      <td>NaN</td>\n",
       "      <td>False</td>\n",
       "      <td>1.644772e+17</td>\n",
       "      <td>172650029.0</td>\n",
       "      <td>1.644772e+17</td>\n",
       "      <td>...</td>\n",
       "      <td>0.000000</td>\n",
       "      <td>0.0</td>\n",
       "      <td>0.0</td>\n",
       "      <td>0.0</td>\n",
       "      <td>1.000000</td>\n",
       "      <td>0.0</td>\n",
       "      <td>0.0</td>\n",
       "      <td>0.0</td>\n",
       "      <td>0.0</td>\n",
       "      <td>0.0</td>\n",
       "    </tr>\n",
       "  </tbody>\n",
       "</table>\n",
       "<p>1740 rows × 68 columns</p>\n",
       "</div>"
      ],
      "text/plain": [
       "                id                    source                created_at lang  \\\n",
       "0     1.532864e+17  Twitter for BlackBerry¬Æ  2012-01-01T01:28:19.000Z   en   \n",
       "1     1.532881e+17  Twitter for BlackBerry¬Æ  2012-01-01T01:35:15.000Z   tl   \n",
       "2     1.533571e+17   TweetCaster for Android  2012-01-01T06:09:24.000Z   en   \n",
       "3     1.533609e+17        Twitter for iPhone  2012-01-01T06:24:22.000Z   en   \n",
       "4     1.533788e+17        Twitter for iPhone  2012-01-01T07:35:34.000Z   en   \n",
       "...            ...                       ...                       ...  ...   \n",
       "1735  1.644562e+17        Trendsmap Alerting  2012-01-31T21:13:14.000Z   en   \n",
       "1736  1.644626e+17        Trendsmap Alerting  2012-01-31T21:38:27.000Z   en   \n",
       "1737  1.644626e+17        Trendsmap Alerting  2012-01-31T21:38:30.000Z   en   \n",
       "1738  1.644770e+17        Trendsmap Alerting  2012-01-31T22:35:48.000Z   en   \n",
       "1739  1.644772e+17        Trendsmap Alerting  2012-01-31T22:36:26.000Z   en   \n",
       "\n",
       "                                     text  label  possibly_sensitive  \\\n",
       "0                           get lot bad p    NaN               False   \n",
       "1                   long street look fuck   -1.0               False   \n",
       "2                        touch baby thank    NaN               False   \n",
       "3     wait airport beautiful morning miss    NaN               False   \n",
       "4           time fly come go miss soonest    NaN               False   \n",
       "...                                   ...    ...                 ...   \n",
       "1735                       trend capetown    NaN               False   \n",
       "1736                       trend capetown    NaN               False   \n",
       "1737                       trend capetown    NaN               False   \n",
       "1738               swansea trend capetown    NaN               False   \n",
       "1739                                trend    NaN               False   \n",
       "\n",
       "      edit_history_tweet_ids    author_id  conversation_id  ...      time  \\\n",
       "0               1.532864e+17   83786624.0     1.532850e+17  ...  0.000000   \n",
       "1               1.532881e+17   83786624.0     1.532872e+17  ...  0.000000   \n",
       "2               1.533571e+17    6225362.0     1.533571e+17  ...  0.000000   \n",
       "3               1.533609e+17  170696303.0     1.533609e+17  ...  0.000000   \n",
       "4               1.533788e+17  170696303.0     1.533788e+17  ...  0.588193   \n",
       "...                      ...          ...              ...  ...       ...   \n",
       "1735            1.644562e+17  132338160.0     1.644562e+17  ...  0.000000   \n",
       "1736            1.644626e+17  132338160.0     1.644626e+17  ...  0.000000   \n",
       "1737            1.644626e+17  132338160.0     1.644626e+17  ...  0.000000   \n",
       "1738            1.644770e+17  132338160.0     1.644770e+17  ...  0.000000   \n",
       "1739            1.644772e+17  172650029.0     1.644772e+17  ...  0.000000   \n",
       "\n",
       "     today  town travel     trend visit  way   wo  world  year  \n",
       "0      0.0   0.0    0.0  0.000000   0.0  0.0  0.0    0.0   0.0  \n",
       "1      0.0   0.0    0.0  0.000000   0.0  0.0  0.0    0.0   0.0  \n",
       "2      0.0   0.0    0.0  0.000000   0.0  0.0  0.0    0.0   0.0  \n",
       "3      0.0   0.0    0.0  0.000000   0.0  0.0  0.0    0.0   0.0  \n",
       "4      0.0   0.0    0.0  0.000000   0.0  0.0  0.0    0.0   0.0  \n",
       "...    ...   ...    ...       ...   ...  ...  ...    ...   ...  \n",
       "1735   0.0   0.0    0.0  0.576363   0.0  0.0  0.0    0.0   0.0  \n",
       "1736   0.0   0.0    0.0  0.576363   0.0  0.0  0.0    0.0   0.0  \n",
       "1737   0.0   0.0    0.0  0.576363   0.0  0.0  0.0    0.0   0.0  \n",
       "1738   0.0   0.0    0.0  0.576363   0.0  0.0  0.0    0.0   0.0  \n",
       "1739   0.0   0.0    0.0  1.000000   0.0  0.0  0.0    0.0   0.0  \n",
       "\n",
       "[1740 rows x 68 columns]"
      ]
     },
     "metadata": {},
     "output_type": "display_data"
    }
   ],
   "source": [
    "display(finaldf)"
   ]
  },
  {
   "cell_type": "code",
   "execution_count": 35,
   "metadata": {},
   "outputs": [],
   "source": [
    "#finaldf.to_excel(r'/Users/lise-mariehugo/Desktop/F2011Feb.xlsx')"
   ]
  },
  {
   "cell_type": "markdown",
   "metadata": {},
   "source": [
    "# Clustering"
   ]
  },
  {
   "cell_type": "code",
   "execution_count": 36,
   "metadata": {},
   "outputs": [],
   "source": [
    "from sklearn.cluster import KMeans\n",
    "kmeans = KMeans(n_clusters=15).fit(X_train_tfidf)"
   ]
  },
  {
   "cell_type": "code",
   "execution_count": 37,
   "metadata": {},
   "outputs": [],
   "source": [
    "# store cluster labels in a variable\n",
    "clusters = kmeans.labels_"
   ]
  },
  {
   "cell_type": "code",
   "execution_count": 38,
   "metadata": {
    "scrolled": false
   },
   "outputs": [
    {
     "name": "stdout",
     "output_type": "stream",
     "text": [
      "\n",
      "Cluster 0\n",
      "have,hope,hot,know,life,get,year,trend\n",
      "\n",
      "Cluster 1\n",
      "hope,hot,know,life,go,year,capetown,trend\n",
      "\n",
      "Cluster 2\n",
      "great,visit,travel,be,today,go,love,capetown\n",
      "\n",
      "Cluster 3\n",
      "cape,great,durban,know,today,go,capetown,day\n",
      "\n",
      "Cluster 4\n",
      "hot,durban,stop,city,day,good,capetown,morning\n",
      "\n",
      "Cluster 5\n",
      "town,city,capetown,beautiful,take,day,be,life\n",
      "\n",
      "Cluster 6\n",
      "have,good,capetown,hope,trend,get,be,matricresult\n",
      "\n",
      "Cluster 7\n",
      "town,travel,cape,beautiful,day,love,capetown,way\n",
      "\n",
      "Cluster 8\n",
      "summer,year,time,hope,day,get,capetown,good\n",
      "\n",
      "Cluster 9\n",
      "have,hope,hot,know,life,get,year,wo\n",
      "\n",
      "Cluster 10\n",
      "life,durban,get,go,good,love,capetown,night\n",
      "\n",
      "Cluster 11\n",
      "morning,world,be,good,today,go,capetown,come\n",
      "\n",
      "Cluster 12\n",
      "life,good,durban,be,year,visit,capetown,thank\n",
      "\n",
      "Cluster 13\n",
      "hope,hot,know,life,go,year,place,capetown\n",
      "\n",
      "Cluster 14\n",
      "summer,town,capetown,cape,sunset,city,wo,durban\n"
     ]
    }
   ],
   "source": [
    "def get_top_keywords(n_terms):\n",
    "    \"\"\"This function returns the keywords for each centroid of the KMeans\"\"\"\n",
    "    df = pd.DataFrame(X.todense()).groupby(clusters).mean() # groups the TF-IDF vector by cluster\n",
    "    terms = vectorizer.get_feature_names_out() # access tf-idf terms\n",
    "    for i,r in df.iterrows():\n",
    "        print('\\nCluster {}'.format(i))\n",
    "        print(','.join([terms[t] for t in np.argsort(r)[-n_terms:]])) # for each row of the dataframe, find the n terms that have the highest tf idf score\n",
    "\n",
    "    \n",
    "clusterdata = get_top_keywords(8)"
   ]
  },
  {
   "cell_type": "code",
   "execution_count": 39,
   "metadata": {},
   "outputs": [],
   "source": [
    "#clusterdata.head()"
   ]
  },
  {
   "cell_type": "code",
   "execution_count": 40,
   "metadata": {},
   "outputs": [],
   "source": [
    "def cluster_text(text):\n",
    "\n",
    "    vectorizer = CountVectorizer(min_df=2)\n",
    "    X = vectorizer.fit_transform(text)\n",
    "    \n",
    "    tfidf_transformer = TfidfTransformer()\n",
    "    #print(corpus2)\n",
    "    X = tfidf_transformer.fit_transform(X)\n",
    "    \n",
    "    import matplotlib.pyplot as plt\n",
    "    from sklearn.cluster import KMeans\n",
    "    Sum_of_squared_distances = []\n",
    "    K = range(2,10)\n",
    "    for k in K:\n",
    "       km = KMeans(n_clusters=k, max_iter=200, n_init=10)\n",
    "       km = km.fit(X)\n",
    "       Sum_of_squared_distances.append(km.inertia_)\n",
    "    plt.plot(K, Sum_of_squared_distances, 'bx-')\n",
    "    plt.xlabel('k')\n",
    "    plt.ylabel('Sum_of_squared_distances')\n",
    "    plt.title('Elbow Method For Optimal k')\n",
    "    plt.savefig('elbow.png')\n",
    "    plt.show()\n",
    "\n",
    "    print('How many clusters do you want to use?')\n",
    "    true_k = int(input())\n",
    "    model = KMeans(n_clusters=true_k, init='k-means++', max_iter=200, n_init=10)\n",
    "    model.fit(X)\n",
    "\n",
    "    labels=model.labels_\n",
    "    clusters=pd.DataFrame(list(zip(text,labels)),columns=['title','cluster'])\n",
    "    #print(clusters.sort_values(by=['cluster']))\n",
    "\n",
    "    for i in range(true_k):\n",
    "        print(clusters[clusters['cluster'] == i])\n",
    "        \n",
    "    return"
   ]
  },
  {
   "cell_type": "code",
   "execution_count": 41,
   "metadata": {},
   "outputs": [
    {
     "data": {
      "image/png": "[encoded data removed]",
      "text/plain": [
       "<Figure size 640x480 with 1 Axes>"
      ]
     },
     "metadata": {},
     "output_type": "display_data"
    },
    {
     "name": "stdout",
     "output_type": "stream",
     "text": [
      "How many clusters do you want to use?\n",
      "7\n",
      "                 title  cluster\n",
      "5                trend        0\n",
      "7                trend        0\n",
      "9                trend        0\n",
      "11      hillbrow trend        0\n",
      "15               trend        0\n",
      "...                ...      ...\n",
      "1730     runfree trend        0\n",
      "1731    firework trend        0\n",
      "1733             trend        0\n",
      "1734  fabulosity trend        0\n",
      "1739             trend        0\n",
      "\n",
      "[580 rows x 2 columns]\n",
      "                                                  title  cluster\n",
      "0                                         get lot bad p        1\n",
      "1                                 long street look fuck        1\n",
      "2                                      touch baby thank        1\n",
      "3                   wait airport beautiful morning miss        1\n",
      "4                         time fly come go miss soonest        1\n",
      "...                                                 ...      ...\n",
      "1716  opinion capetown raise destination marketing u...        1\n",
      "1725                                   radio internship        1\n",
      "1726                                 view beat capetown        1\n",
      "1727                              brewing plan tomorrow        1\n",
      "1732                          topbilling trend capetown        1\n",
      "\n",
      "[643 rows x 2 columns]\n",
      "                       title  cluster\n",
      "6             trend capetown        2\n",
      "14            trend capetown        2\n",
      "16            trend capetown        2\n",
      "38            trend capetown        2\n",
      "42            trend capetown        2\n",
      "...                      ...      ...\n",
      "1710          trend capetown        2\n",
      "1735          trend capetown        2\n",
      "1736          trend capetown        2\n",
      "1737          trend capetown        2\n",
      "1738  swansea trend capetown        2\n",
      "\n",
      "[378 rows x 2 columns]\n",
      "                                                  title  cluster\n",
      "27                                        nice cool day        3\n",
      "89                                  day cricket newland        3\n",
      "133                          great day today hike table        3\n",
      "152           morning day work year exciting thing rlab        3\n",
      "257   second day capetown people polite helpful blow...        3\n",
      "263                  crap eat orrrsum day ill block bad        3\n",
      "282   good day office chillax home capetown summer rlab        3\n",
      "358   bed anther day capetown hour sleep bike explor...        3\n",
      "396       chardonnay day magical capetown harbour house        3\n",
      "589              beautiful day capetown bodyboarde work        3\n",
      "637                               day capetown scorcher        3\n",
      "743                     survive day hour sleep capetown        3\n",
      "779      china trust brilliant look beauty day capetown        3\n",
      "832   good morning sunny wind stop capetown go fine ...        3\n",
      "833          know go great day capetown cloud sky stand        3\n",
      "873                           record day today capetown        3\n",
      "874   know day worth red face head foot believe year...        3\n",
      "893   follow nice cold beer sound business hot day c...        3\n",
      "930   interesting appreciation day hot capetown mosq...        3\n",
      "933                  think need have day lucky have get        3\n",
      "956                           day brilliant holiday tho        3\n",
      "1114  good morning day stellenbosch evening birthday...        3\n",
      "1313   perfect day berth mother city morning left photo        3\n",
      "1314   perfect day berth mother city morning left photo        3\n",
      "1315   perfect day berth mother city morning left photo        3\n",
      "1353          get attention p let work nice bluesky day        3\n",
      "1387                         day get punch stomach life        3\n",
      "1430                  divine lunch perfect day capetown        3\n",
      "1460                    long day bus today joy capetown        3\n",
      "1498                            day meeting hour flight        3\n",
      "1501                               happy police day pig        3\n",
      "1519  good let day worth sure grab fat slice cake li...        3\n",
      "1520    good busy day today eye test birthday afternoon        3\n",
      "1524  sunny capetown burn legsarm yesterday go dedic...        3\n",
      "1555                          watch episode day go live        3\n",
      "1563  nice spend day lick wound sunset see slope lio...        3\n",
      "1580  houtbay market shape destination day fish food...        3\n",
      "1616  day sick glassy surf capetown bloody sun downe...        3\n",
      "1619                                     touch long day        3\n",
      "1645  need free spanish translator day tour drop lin...        3\n",
      "1665             beautiful way end memorable day travel        3\n",
      "1669  tour operator drop line need free spanish tran...        3\n",
      "1702                   go sunny day capetown glad enjoy        3\n",
      "1703            enjoy green tea coelho garden start day        3\n",
      "                                                  title  cluster\n",
      "31                    durban summer shower sweat repeat        4\n",
      "93            holiday time thank memory capetown durban        4\n",
      "350   nice bump friend pick awesome sushi takeout st...        4\n",
      "401                             love durban hot hot hot        4\n",
      "410                     coffee durban mugg bean gateway        4\n",
      "411              sunset durban umhlanga rock lighthouse        4\n",
      "675        interview restaurant space durban beachfront        4\n",
      "682                         cheap place park day durban        4\n",
      "792                         wo liegt durban durban quiz        4\n",
      "850                         wo liegt durban durban quiz        4\n",
      "853                         durban people diet come die        4\n",
      "855   know nonwhite entrepreneur folk durban coolcut...        4\n",
      "864                    durban sure gunning hard get tip        4\n",
      "865   durban build old beach resort remind heaving m...        4\n",
      "881   hot sticky night durban night starve go check ...        4\n",
      "892   provincial government owe ratepayer ethekwini ...        4\n",
      "906      have problem find durban hot surf save morning        4\n",
      "1097                               temp actual durban c        4\n",
      "1098  durban resident suffer power outage want file ...        4\n",
      "1122  government department owe durban whopping rate...        4\n",
      "1145                        wo liegt durban durban quiz        4\n",
      "1159  head dolphin enjoy durban capetown shark seal ...        4\n",
      "1166  happen photographer behave opening new premise...        4\n",
      "1271  let ratepayer durban break sell municipal inte...        4\n",
      "1319  request new city manager revive municipal cour...        4\n",
      "1320  spend budget deliver service spend money durba...        4\n",
      "1359        hire yellow vehicle taxi style event durban        4\n",
      "1390  time sleep fall sleep excitement holiday early...        4\n",
      "1435  durban follow cut budget rest world cut increa...        4\n",
      "1442             umhlanga village basking sunset durban        4\n",
      "1505                               go peachy day durban        4\n",
      "1521   action shoot load surfer morning pedalpic durban        4\n",
      "1676  sunset bat centre durban utilise socialmusic v...        4\n",
      "1677                 neglect business durban bunny chow        4\n",
      "1687             city cut budget daily news durban rate        4\n",
      "1699  government owe day know pay portion topgear du...        4\n",
      "1700  private sector include hospitality industry so...        4\n",
      "     title  cluster\n",
      "139     wo        5\n",
      "194     wo        5\n",
      "300     wo        5\n",
      "404     wo        5\n",
      "409     wo        5\n",
      "412     wo        5\n",
      "517     wo        5\n",
      "520     wo        5\n",
      "561     wo        5\n",
      "608     wo        5\n",
      "622     wo        5\n",
      "623     wo        5\n",
      "670     wo        5\n",
      "688     wo        5\n",
      "689     wo        5\n",
      "691     wo        5\n",
      "695     wo        5\n",
      "726     wo        5\n",
      "1042    wo        5\n",
      "1459    wo        5\n",
      "1471    wo        5\n",
      "1545    wo        5\n",
      "1574    wo        5\n",
      "                                                  title  cluster\n",
      "94                                 great trend capetown        6\n",
      "109                   great take shark cage diving town        6\n",
      "207   great article late capetown wineland fave rest...        6\n",
      "336   fact street batho location name great reside a...        6\n",
      "480   sound great young generation hope watch learn ...        6\n",
      "533   great chill humidity stifle go swim edge justa...        6\n",
      "551                          capeofgoodh cape good hope        6\n",
      "581                   creative cape town trend capetown        6\n",
      "605   love cape town silly mountain majestic bad poe...        6\n",
      "754         restaurant night food drink shopping centre        6\n",
      "843   minute change plan spend capetown go cape wine...        6\n",
      "879                                          peace town        6\n",
      "934              enter capetown sacompetition cape town        6\n",
      "973   cape tonian selfobsesse old continuity present...        6\n",
      "1183                                           wineland        6\n",
      "1297    way airport cape town pick extremeteam capetown        6\n",
      "1298             great praise wonderful cape restaurant        6\n",
      "1304                    restaurant worth splurge travel        6\n",
      "1305                    restaurant worth splurge travel        6\n",
      "1306                    restaurant worth splurge travel        6\n",
      "1339                                      great country        6\n",
      "1375                       move cape town office durban        6\n",
      "1483                        great meeting capetown rlab        6\n",
      "1560                                          stop cape        6\n",
      "1561                                          stop cape        6\n",
      "1583        summer restaurant special capetown wineland        6\n",
      "1584        summer restaurant special capetown wineland        6\n",
      "1585        summer restaurant special capetown wineland        6\n",
      "1586  news joburg durban cape town read weep summer ...        6\n",
      "1605  fantastic day explore cape peninsula penguin s...        6\n",
      "1617         perfect explore cape peninsula make friend        6\n",
      "1627  pic video cape peninsula seal penguin white be...        6\n",
      "1638  meeting council ready fight right citizen grea...        6\n",
      "1653                      town highlight travel tourism        6\n",
      "1658                            town ten trend capetown        6\n"
     ]
    }
   ],
   "source": [
    "cluster_text(df1[\"text\"])"
   ]
  },
  {
   "cell_type": "code",
   "execution_count": 42,
   "metadata": {},
   "outputs": [],
   "source": [
    "#use a different clustering method \n",
    "from sklearn.cluster import DBSCAN\n",
    "from sklearn import metrics\n",
    "\n",
    "db = DBSCAN(eps=0.8, min_samples=10).fit(X_train_tfidf)\n",
    "clusters = db.labels_"
   ]
  },
  {
   "cell_type": "code",
   "execution_count": 43,
   "metadata": {},
   "outputs": [
    {
     "name": "stdout",
     "output_type": "stream",
     "text": [
      "\n",
      "Cluster -1\n",
      "stop,come,city,know,good,great,year,visit,world,time,cape,go,day,durban,capetown\n",
      "\n",
      "Cluster 0\n",
      "city,durban,go,thank,life,get,today,matricresult,love,be,night,morning,good,day,capetown\n",
      "\n",
      "Cluster 1\n",
      "come,day,love,durban,go,good,great,have,hope,hot,know,life,get,year,trend\n",
      "\n",
      "Cluster 2\n",
      "day,love,get,durban,good,great,have,hope,hot,know,life,go,year,trend,capetown\n",
      "\n",
      "Cluster 3\n",
      "come,day,durban,world,get,good,great,have,hope,hot,know,life,look,go,year\n",
      "\n",
      "Cluster 4\n",
      "go,year,great,have,hope,know,life,good,today,city,morning,love,hot,capetown,way\n",
      "\n",
      "Cluster 5\n",
      "come,day,love,durban,go,good,great,have,hope,hot,know,life,get,year,wo\n",
      "\n",
      "Cluster 6\n",
      "day,love,get,year,good,great,have,hope,hot,know,life,go,capetown,wo,durban\n",
      "\n",
      "Cluster 7\n",
      "get,durban,good,great,have,hope,hot,go,city,town,know,awesome,capetown,restaurant,travel\n"
     ]
    }
   ],
   "source": [
    "def get_top_keywords(n_terms):\n",
    "    \"\"\"This function returns the keywords for each centroid of the KMeans\"\"\"\n",
    "    df = pd.DataFrame(X.todense()).groupby(clusters).mean() # groups the TF-IDF vector by cluster\n",
    "    terms = vectorizer.get_feature_names_out() # access tf-idf terms\n",
    "    for i,r in df.iterrows():\n",
    "        print('\\nCluster {}'.format(i))\n",
    "        print(','.join([terms[t] for t in np.argsort(r)[-n_terms:]])) # for each row of the dataframe, find the n terms that have the highest tf idf score\n",
    "            \n",
    "get_top_keywords(15)"
   ]
  },
  {
   "cell_type": "code",
   "execution_count": 44,
   "metadata": {},
   "outputs": [],
   "source": [
    "df1.hist(column='Sentiment', bins=9)\n",
    "plt.savefig('classimb.png')"
   ]
  },
  {
   "cell_type": "code",
   "execution_count": 45,
   "metadata": {},
   "outputs": [],
   "source": [
    "#spectral clustering\n",
    "from sklearn.cluster import SpectralClustering\n",
    "\n",
    "sc = SpectralClustering(n_clusters=8).fit(X_train_tfidf)\n"
   ]
  },
  {
   "cell_type": "code",
   "execution_count": null,
   "metadata": {},
   "outputs": [],
   "source": []
  },
  {
   "cell_type": "code",
   "execution_count": 46,
   "metadata": {},
   "outputs": [
    {
     "data": {
      "image/png": "[encoded data removed]",
      "text/plain": [
       "<Figure size 640x480 with 1 Axes>"
      ]
     },
     "metadata": {},
     "output_type": "display_data"
    }
   ],
   "source": [
    "#there is definitely a class imbalance\n",
    "plt.show()"
   ]
  },
  {
   "cell_type": "code",
   "execution_count": 47,
   "metadata": {},
   "outputs": [
    {
     "data": {
      "text/plain": [
       "<AxesSubplot:>"
      ]
     },
     "execution_count": 47,
     "metadata": {},
     "output_type": "execute_result"
    }
   ],
   "source": [
    "#text length\n",
    "df['text'].str.len().hist(bins=50)"
   ]
  },
  {
   "cell_type": "code",
   "execution_count": 48,
   "metadata": {},
   "outputs": [
    {
     "data": {
      "image/png": "[encoded data removed]",
      "text/plain": [
       "<Figure size 640x480 with 1 Axes>"
      ]
     },
     "metadata": {},
     "output_type": "display_data"
    }
   ],
   "source": [
    "plt.show()"
   ]
  },
  {
   "cell_type": "code",
   "execution_count": 49,
   "metadata": {},
   "outputs": [],
   "source": [
    "#number of words in each text\n",
    "df['text'].str.split().map(lambda x: len(x)).hist(bins=17)\n",
    "\n",
    "plt.savefig('tweetlength.png')"
   ]
  },
  {
   "cell_type": "code",
   "execution_count": 50,
   "metadata": {},
   "outputs": [
    {
     "data": {
      "image/png": "[encoded data removed]",
      "text/plain": [
       "<Figure size 640x480 with 1 Axes>"
      ]
     },
     "metadata": {},
     "output_type": "display_data"
    }
   ],
   "source": [
    "plt.show()"
   ]
  },
  {
   "cell_type": "code",
   "execution_count": 51,
   "metadata": {},
   "outputs": [],
   "source": [
    "#look at source column"
   ]
  },
  {
   "cell_type": "code",
   "execution_count": 52,
   "metadata": {},
   "outputs": [
    {
     "data": {
      "text/plain": [
       "0    Twitter for BlackBerry¬Æ\n",
       "1    Twitter for BlackBerry¬Æ\n",
       "2     TweetCaster for Android\n",
       "3          Twitter for iPhone\n",
       "4          Twitter for iPhone\n",
       "Name: source, dtype: object"
      ]
     },
     "execution_count": 52,
     "metadata": {},
     "output_type": "execute_result"
    }
   ],
   "source": [
    "df1['source'].head()"
   ]
  },
  {
   "cell_type": "code",
   "execution_count": 53,
   "metadata": {},
   "outputs": [
    {
     "data": {
      "text/plain": [
       "Trendsmap Alerting           1114\n",
       "Twitter for BlackBerry¬Æ      209\n",
       "Twitter for iPhone            127\n",
       "Twitter Web Client            103\n",
       "UberSocial for BlackBerry      43\n",
       "Instagram                      31\n",
       "www.kartenquiz.de              26\n",
       "TweetDeck                      14\n",
       "Echofon                        10\n",
       "Twitter for Android            10\n",
       "Twitter for iPad                7\n",
       "Foursquare                      7\n",
       "Hootsuite                       6\n",
       "Camera on iOS                   4\n",
       "Twittelator                     4\n",
       "Photos on iOS                   4\n",
       "Tweetbot for iOS                4\n",
       "Twitter for Windows Phone       4\n",
       "TweetCaster for Android         2\n",
       "TweetCaster for iOS             2\n",
       "Flickr                          2\n",
       "Gravity!                        1\n",
       "SafeTweet by TweetMyJOBS        1\n",
       "dlvr.it                         1\n",
       "Safari on iOS                   1\n",
       "UberSocial for Android          1\n",
       "Name: source, dtype: int64"
      ]
     },
     "execution_count": 53,
     "metadata": {},
     "output_type": "execute_result"
    }
   ],
   "source": [
    "df1['source'].value_counts()"
   ]
  },
  {
   "cell_type": "code",
   "execution_count": 54,
   "metadata": {},
   "outputs": [
    {
     "data": {
      "text/plain": [
       "en     1586\n",
       "tl       29\n",
       "de       29\n",
       "in       25\n",
       "es       21\n",
       "et       14\n",
       "nl       12\n",
       "qme       8\n",
       "und       4\n",
       "da        2\n",
       "pt        2\n",
       "ro        2\n",
       "ca        2\n",
       "ht        2\n",
       "it        2\n",
       "Name: lang, dtype: int64"
      ]
     },
     "execution_count": 54,
     "metadata": {},
     "output_type": "execute_result"
    }
   ],
   "source": [
    "df['lang'].value_counts()"
   ]
  },
  {
   "cell_type": "code",
   "execution_count": 55,
   "metadata": {},
   "outputs": [],
   "source": [
    "from wordcloud import WordCloud\n",
    "\n",
    "\n",
    "data = df1[\"text\"]\n",
    "\n",
    "def show_wordcloud(data):\n",
    "    wordcloud = WordCloud(\n",
    "        background_color='white',\n",
    "        max_words=100,\n",
    "        max_font_size=30,\n",
    "        scale=3,\n",
    "        random_state=1)\n",
    "   \n",
    "    wordcloud=wordcloud.generate(str(data))\n",
    "\n",
    "    fig = plt.figure(1, figsize=(12, 12))\n",
    "    plt.axis('off')\n",
    "\n",
    "    plt.imshow(wordcloud)\n",
    "    plt.show()"
   ]
  },
  {
   "cell_type": "code",
   "execution_count": 56,
   "metadata": {},
   "outputs": [
    {
     "data": {
      "image/png": "[encoded data removed]",
      "text/plain": [
       "<Figure size 1200x1200 with 1 Axes>"
      ]
     },
     "metadata": {},
     "output_type": "display_data"
    }
   ],
   "source": [
    "show_wordcloud(data)"
   ]
  },
  {
   "cell_type": "code",
   "execution_count": 57,
   "metadata": {},
   "outputs": [],
   "source": [
    "#recognising entities\n",
    "\n",
    "def ner(text):\n",
    "    doc=nlp(text)\n",
    "    return [X.label_ for X in doc.ents]\n",
    "\n",
    "ent=df1['text'].\\\n",
    "    apply(lambda x : ner(x))\n",
    "ent=[x for sub in ent for x in sub]\n",
    "\n",
    "counter=Counter(ent)\n",
    "count=counter.most_common()"
   ]
  },
  {
   "cell_type": "code",
   "execution_count": 58,
   "metadata": {},
   "outputs": [
    {
     "data": {
      "text/plain": [
       "<AxesSubplot:>"
      ]
     },
     "execution_count": 58,
     "metadata": {},
     "output_type": "execute_result"
    }
   ],
   "source": [
    "x,y=map(list,zip(*count))\n",
    "sns.barplot(x=y,y=x)"
   ]
  },
  {
   "cell_type": "code",
   "execution_count": 59,
   "metadata": {},
   "outputs": [
    {
     "data": {
      "image/png": "[encoded data removed]",
      "text/plain": [
       "<Figure size 640x480 with 1 Axes>"
      ]
     },
     "metadata": {},
     "output_type": "display_data"
    }
   ],
   "source": [
    "plt.show()"
   ]
  },
  {
   "cell_type": "code",
   "execution_count": 60,
   "metadata": {},
   "outputs": [
    {
     "name": "stderr",
     "output_type": "stream",
     "text": [
      "/Users/lise-mariehugo/opt/anaconda3/lib/python3.8/site-packages/seaborn/_decorators.py:36: FutureWarning: Pass the following variables as keyword args: x, y. From version 0.12, the only valid positional argument will be `data`, and passing other arguments without an explicit keyword will result in an error or misinterpretation.\n",
      "  warnings.warn(\n"
     ]
    },
    {
     "data": {
      "image/png": "[encoded data removed]",
      "text/plain": [
       "<Figure size 640x480 with 1 Axes>"
      ]
     },
     "metadata": {},
     "output_type": "display_data"
    }
   ],
   "source": [
    "def ner(text,ent=\"GPE\"):\n",
    "    doc=nlp(text)\n",
    "    return [X.text for X in doc.ents if X.label_ == ent]\n",
    "\n",
    "gpe=df1[\"text\"].apply(lambda x: ner(x))\n",
    "gpe=[i for x in gpe for i in x]\n",
    "counter=Counter(gpe)\n",
    "\n",
    "x,y=map(list,zip(*counter.most_common(10)))\n",
    "sns.barplot(y,x)\n",
    "\n",
    "plt.show()"
   ]
  },
  {
   "cell_type": "code",
   "execution_count": 61,
   "metadata": {},
   "outputs": [
    {
     "name": "stderr",
     "output_type": "stream",
     "text": [
      "/Users/lise-mariehugo/opt/anaconda3/lib/python3.8/site-packages/seaborn/_decorators.py:36: FutureWarning: Pass the following variables as keyword args: x, y. From version 0.12, the only valid positional argument will be `data`, and passing other arguments without an explicit keyword will result in an error or misinterpretation.\n",
      "  warnings.warn(\n"
     ]
    },
    {
     "data": {
      "image/png": "[encoded data removed]",
      "text/plain": [
       "<Figure size 640x480 with 1 Axes>"
      ]
     },
     "metadata": {},
     "output_type": "display_data"
    }
   ],
   "source": [
    "def ner(text,ent=\"PERSON\"):\n",
    "    doc=nlp(text)\n",
    "    return [X.text for X in doc.ents if X.label_ == ent]\n",
    "\n",
    "gpe=df1[\"text\"].apply(lambda x: ner(x))\n",
    "gpe=[i for x in gpe for i in x]\n",
    "counter=Counter(gpe)\n",
    "\n",
    "x,y=map(list,zip(*counter.most_common(10)))\n",
    "sns.barplot(y,x)\n",
    "\n",
    "plt.show()"
   ]
  },
  {
   "cell_type": "code",
   "execution_count": 62,
   "metadata": {},
   "outputs": [
    {
     "name": "stderr",
     "output_type": "stream",
     "text": [
      "/Users/lise-mariehugo/opt/anaconda3/lib/python3.8/site-packages/seaborn/_decorators.py:36: FutureWarning: Pass the following variables as keyword args: x, y. From version 0.12, the only valid positional argument will be `data`, and passing other arguments without an explicit keyword will result in an error or misinterpretation.\n",
      "  warnings.warn(\n"
     ]
    },
    {
     "data": {
      "image/png": "[encoded data removed]",
      "text/plain": [
       "<Figure size 640x480 with 1 Axes>"
      ]
     },
     "metadata": {},
     "output_type": "display_data"
    }
   ],
   "source": [
    "def ner(text,ent=\"ORG\"):\n",
    "    doc=nlp(text)\n",
    "    return [X.text for X in doc.ents if X.label_ == ent]\n",
    "\n",
    "gpe=df1[\"text\"].apply(lambda x: ner(x))\n",
    "gpe=[i for x in gpe for i in x]\n",
    "counter=Counter(gpe)\n",
    "\n",
    "x,y=map(list,zip(*counter.most_common(10)))\n",
    "sns.barplot(y,x)\n",
    "\n",
    "plt.show()"
   ]
  },
  {
   "cell_type": "code",
   "execution_count": 63,
   "metadata": {},
   "outputs": [],
   "source": [
    "#def pos(text):\n",
    "    #pos=nltk.pos_tag(word_tokenize(text))\n",
    "    #pos=list(map(list,zip(*pos)))[1]\n",
    "    #return pos\n",
    "\n",
    "#tags=df1[\"text\"].apply(lambda x : pos(x))\n",
    "#tags=[x for l in tags for x in l]\n",
    "#counter=Counter(tags)\n",
    "\n",
    "#x,y=list(map(list,zip(*counter.most_common(7))))\n",
    "#sns.barplot(x=y,y=x)\n",
    "\n",
    "#plt.show()"
   ]
  },
  {
   "cell_type": "code",
   "execution_count": 64,
   "metadata": {},
   "outputs": [
    {
     "data": {
      "text/plain": [
       "<AxesSubplot:>"
      ]
     },
     "execution_count": 64,
     "metadata": {},
     "output_type": "execute_result"
    }
   ],
   "source": [
    "from nltk.util import ngrams\n",
    "\n",
    "def get_top_ngram(corpus, n=None):\n",
    "    vec = CountVectorizer(ngram_range=(n, n)).fit(corpus)\n",
    "    bag_of_words = vec.transform(corpus)\n",
    "    sum_words = bag_of_words.sum(axis=0) \n",
    "    words_freq = [(word, sum_words[0, idx]) \n",
    "                  for word, idx in vec.vocabulary_.items()]\n",
    "    words_freq =sorted(words_freq, key = lambda x: x[1], reverse=True)\n",
    "    return words_freq[:10]\n",
    "\n",
    "top_tri_grams=get_top_ngram(df[\"text\"],n=3)\n",
    "x,y=map(list,zip(*top_tri_grams))\n",
    "sns.barplot(x=y,y=x)\n",
    "\n"
   ]
  },
  {
   "cell_type": "code",
   "execution_count": 65,
   "metadata": {},
   "outputs": [],
   "source": [
    "plt.savefig('recenttrigrams.png', bbox_inches=\"tight\", dpi=300)\n"
   ]
  },
  {
   "cell_type": "code",
   "execution_count": 66,
   "metadata": {},
   "outputs": [
    {
     "data": {
      "image/png": "[encoded data removed]",
      "text/plain": [
       "<Figure size 640x480 with 1 Axes>"
      ]
     },
     "metadata": {},
     "output_type": "display_data"
    }
   ],
   "source": [
    "plt.show()"
   ]
  },
  {
   "cell_type": "code",
   "execution_count": 67,
   "metadata": {},
   "outputs": [
    {
     "ename": "NameError",
     "evalue": "name 'bow_corpus' is not defined",
     "output_type": "error",
     "traceback": [
      "\u001b[0;31m---------------------------------------------------------------------------\u001b[0m",
      "\u001b[0;31mNameError\u001b[0m                                 Traceback (most recent call last)",
      "Input \u001b[0;32mIn [67]\u001b[0m, in \u001b[0;36m<module>\u001b[0;34m\u001b[0m\n\u001b[0;32m----> 1\u001b[0m lda_model \u001b[38;5;241m=\u001b[39m gensim\u001b[38;5;241m.\u001b[39mmodels\u001b[38;5;241m.\u001b[39mLdaMulticore(\u001b[43mbow_corpus\u001b[49m, \n\u001b[1;32m      2\u001b[0m                                    num_topics \u001b[38;5;241m=\u001b[39m \u001b[38;5;241m4\u001b[39m, \n\u001b[1;32m      3\u001b[0m                                    id2word \u001b[38;5;241m=\u001b[39m dic,                                    \n\u001b[1;32m      4\u001b[0m                                    passes \u001b[38;5;241m=\u001b[39m \u001b[38;5;241m10\u001b[39m,\n\u001b[1;32m      5\u001b[0m                                    workers \u001b[38;5;241m=\u001b[39m \u001b[38;5;241m2\u001b[39m)\n\u001b[1;32m      6\u001b[0m lda_model\u001b[38;5;241m.\u001b[39mshow_topics()\n",
      "\u001b[0;31mNameError\u001b[0m: name 'bow_corpus' is not defined"
     ]
    }
   ],
   "source": [
    "lda_model = gensim.models.LdaMulticore(bow_corpus, \n",
    "                                   num_topics = 4, \n",
    "                                   id2word = dic,                                    \n",
    "                                   passes = 10,\n",
    "                                   workers = 2)\n",
    "lda_model.show_topics()"
   ]
  },
  {
   "cell_type": "code",
   "execution_count": null,
   "metadata": {},
   "outputs": [],
   "source": [
    "from nltk.stem.porter import *\n",
    "from nltk.stem import WordNetLemmatizer\n",
    "  \n",
    "lemmatizer = WordNetLemmatizer()\n",
    "\n",
    "import nltk\n",
    "nltk.download('stopwords')\n",
    "stop=set(stopwords.words('english'))\n",
    "\n",
    "import pyLDAvis"
   ]
  },
  {
   "cell_type": "code",
   "execution_count": null,
   "metadata": {},
   "outputs": [],
   "source": [
    "#LDA\n",
    "\n",
    "def preprocess_data(df):\n",
    "    corpus=[]\n",
    "    stem=PorterStemmer()\n",
    "    lem=WordNetLemmatizer()\n",
    "    for news in df['text']:\n",
    "        words=[w for w in word_tokenize(news) if (w not in stop)]\n",
    "        \n",
    "        words=[lem.lemmatize(w) for w in words if len(w)>2]\n",
    "        \n",
    "        corpus.append(words)\n",
    "    return corpus\n",
    "\n",
    "data = df1\n",
    "\n",
    "corpus=preprocess_data(data)\n",
    "\n",
    "\n",
    "dic=gensim.corpora.Dictionary(corpus)\n",
    "bow_corpus = [dic.doc2bow(doc) for doc in corpus]"
   ]
  },
  {
   "cell_type": "code",
   "execution_count": null,
   "metadata": {},
   "outputs": [],
   "source": [
    "lda_model = gensim.models.LdaMulticore(bow_corpus, \n",
    "                                   num_topics = 4, \n",
    "                                   id2word = dic,                                    \n",
    "                                   passes = 10,\n",
    "                                   workers = 2)\n",
    "lda_model.show_topics()"
   ]
  },
  {
   "cell_type": "code",
   "execution_count": null,
   "metadata": {},
   "outputs": [],
   "source": [
    "#pyLDAvis.enable_notebook()\n",
    "#vis = pyLDAvis.gensim.prepare(lda_model, bow_corpus, dic)\n",
    "#vis"
   ]
  },
  {
   "cell_type": "code",
   "execution_count": null,
   "metadata": {},
   "outputs": [],
   "source": [
    "#see what hashtags exist\n",
    "# function to print all the hashtags in a text\n",
    "\n",
    "type(df1[\"hashtag\"])"
   ]
  },
  {
   "cell_type": "code",
   "execution_count": null,
   "metadata": {},
   "outputs": [],
   "source": [
    "dim(df1['hashtag'].value_counts())"
   ]
  },
  {
   "cell_type": "code",
   "execution_count": null,
   "metadata": {},
   "outputs": [],
   "source": [
    "df1['hashtag'].value_counts().hist()"
   ]
  },
  {
   "cell_type": "code",
   "execution_count": null,
   "metadata": {},
   "outputs": [],
   "source": [
    "plt.show()"
   ]
  },
  {
   "cell_type": "code",
   "execution_count": null,
   "metadata": {},
   "outputs": [],
   "source": [
    "hashtagss = df1[\"hashtag\"].dropna()"
   ]
  },
  {
   "cell_type": "code",
   "execution_count": null,
   "metadata": {},
   "outputs": [],
   "source": [
    "df1[\"hashtag\"].to_excel(r'/Users/lise-mariehugo/Desktop/hashtags.xlsx')"
   ]
  },
  {
   "cell_type": "code",
   "execution_count": null,
   "metadata": {},
   "outputs": [],
   "source": [
    "#plot stopwords\n",
    "\n",
    "from collections import defaultdict\n",
    "dic=defaultdict(int)\n",
    "for word in df1['text']:\n",
    "    if word in stop:\n",
    "        dic[word]+=1"
   ]
  },
  {
   "cell_type": "code",
   "execution_count": null,
   "metadata": {},
   "outputs": [],
   "source": [
    "top=sorted(dic.items(), key=lambda x:x[1],reverse=True)[:10] \n",
    "x,y=zip(*top)\n",
    "plt.bar(x,y)"
   ]
  },
  {
   "cell_type": "code",
   "execution_count": null,
   "metadata": {},
   "outputs": [],
   "source": [
    "plt.show()"
   ]
  },
  {
   "cell_type": "code",
   "execution_count": null,
   "metadata": {},
   "outputs": [],
   "source": [
    "print(stop)"
   ]
  },
  {
   "cell_type": "code",
   "execution_count": null,
   "metadata": {},
   "outputs": [],
   "source": []
  },
  {
   "cell_type": "code",
   "execution_count": null,
   "metadata": {},
   "outputs": [],
   "source": []
  },
  {
   "cell_type": "code",
   "execution_count": null,
   "metadata": {},
   "outputs": [],
   "source": []
  },
  {
   "cell_type": "code",
   "execution_count": null,
   "metadata": {},
   "outputs": [],
   "source": []
  }
 ],
 "metadata": {
  "kernelspec": {
   "display_name": "Python 3",
   "language": "python",
   "name": "python3"
  },
  "language_info": {
   "codemirror_mode": {
    "name": "ipython",
    "version": 3
   },
   "file_extension": ".py",
   "mimetype": "text/x-python",
   "name": "python",
   "nbconvert_exporter": "python",
   "pygments_lexer": "ipython3",
   "version": "3.8.5"
  }
 },
 "nbformat": 4,
 "nbformat_minor": 4
}
