{
 "cells": [
  {
   "cell_type": "markdown",
   "metadata": {},
   "source": [
    "Splitting data into train, validation and test set"
   ]
  },
  {
   "cell_type": "code",
   "execution_count": 13,
   "metadata": {},
   "outputs": [],
   "source": [
    "import pandas as pd\n",
    "import numpy as np\n",
    "from sklearn.model_selection import train_test_split"
   ]
  },
  {
   "cell_type": "code",
   "execution_count": 12,
   "metadata": {},
   "outputs": [
    {
     "data": {
      "text/plain": [
       "['source',\n",
       " 'text',\n",
       " 'created_at',\n",
       " 'retweet_count',\n",
       " 'reply_count',\n",
       " 'like_count',\n",
       " 'place_id',\n",
       " 'label']"
      ]
     },
     "execution_count": 12,
     "metadata": {},
     "output_type": "execute_result"
    }
   ],
   "source": [
    "df1 = pd.read_csv(r'C:\\Users\\NB332021\\OneDrive - Nedbank\\Desktop\\Thesis\\Data\\LabData.csv')\n",
    "list(df1.columns)"
   ]
  },
  {
   "cell_type": "code",
   "execution_count": 45,
   "metadata": {},
   "outputs": [],
   "source": [
    "from sklearn.model_selection import train_test_split\n",
    "y = df1[\"label\"]\n",
    "X = df1.loc[:, df1.columns != \"label\"]\n",
    "# Assuming you have features X and labels y?\n",
    "X_train, X_test1, y_train, y_test1 = train_test_split(X, y, test_size=0.5, random_state=42)"
   ]
  },
  {
   "cell_type": "code",
   "execution_count": 46,
   "metadata": {},
   "outputs": [],
   "source": [
    "#create solid version of the samples?\n",
    "finaldf = pd.concat([X_train, y_train], axis=1)\n",
    "finaldf.to_excel(r'C:/Users/NB332021/OneDrive - Nedbank/Desktop/Thesis/Data/TrainingSet.xlsx')"
   ]
  },
  {
   "cell_type": "code",
   "execution_count": 47,
   "metadata": {},
   "outputs": [],
   "source": [
    "#create validation set and test\n",
    "X_test, X_val, y_test, y_val = train_test_split(X_test1, y_test1, test_size=0.4, random_state=42)\n"
   ]
  },
  {
   "cell_type": "code",
   "execution_count": 48,
   "metadata": {},
   "outputs": [],
   "source": [
    "test1 = pd.concat([X_test, y_test], axis=1)\n",
    "test1.to_excel(r'C:/Users/NB332021/OneDrive - Nedbank/Desktop/Thesis/Data/TestSet.xlsx')\n",
    "val1 = pd.concat([X_val, y_val], axis=1)\n",
    "val1.to_excel(r'C:/Users/NB332021/OneDrive - Nedbank/Desktop/Thesis/Data/ValidationSet.xlsx')"
   ]
  },
  {
   "cell_type": "code",
   "execution_count": 51,
   "metadata": {},
   "outputs": [
    {
     "data": {
      "text/plain": [
       "(31101, 8)"
      ]
     },
     "execution_count": 51,
     "metadata": {},
     "output_type": "execute_result"
    }
   ],
   "source": [
    "finaldf.shape\n",
    "#df1.shape = 62203\n",
    "#finaldf.shape?\n",
    "#print(62203-31101)?"
   ]
  },
  {
   "cell_type": "code",
   "execution_count": 37,
   "metadata": {},
   "outputs": [
    {
     "name": "stdout",
     "output_type": "stream",
     "text": [
      "12440.6\n"
     ]
    }
   ],
   "source": [
    "print(62203*0.2)"
   ]
  },
  {
   "cell_type": "code",
   "execution_count": 38,
   "metadata": {},
   "outputs": [
    {
     "name": "stdout",
     "output_type": "stream",
     "text": [
      "0.39998713867721297\n"
     ]
    }
   ],
   "source": [
    "print(12440/31101)"
   ]
  },
  {
   "cell_type": "code",
   "execution_count": null,
   "metadata": {},
   "outputs": [],
   "source": []
  }
 ],
 "metadata": {
  "kernelspec": {
   "display_name": "Python 3",
   "language": "python",
   "name": "python3"
  },
  "language_info": {
   "codemirror_mode": {
    "name": "ipython",
    "version": 3
   },
   "file_extension": ".py",
   "mimetype": "text/x-python",
   "name": "python",
   "nbconvert_exporter": "python",
   "pygments_lexer": "ipython3",
   "version": "3.9.18"
  }
 },
 "nbformat": 4,
 "nbformat_minor": 2
}
